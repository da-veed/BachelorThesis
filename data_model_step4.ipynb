{
 "cells": [
  {
   "cell_type": "code",
   "execution_count": 1,
   "metadata": {},
   "outputs": [],
   "source": [
    "import pandas as pd\n",
    "import numpy as np\n",
    "import seaborn as sns\n",
    "import matplotlib.pyplot as plt\n",
    "import time\n",
    "\n",
    "from sklearn.model_selection import train_test_split\n",
    "from sklearn.preprocessing import StandardScaler\n",
    "\n",
    "pd.set_option('display.max_columns', 30)"
   ]
  },
  {
   "cell_type": "code",
   "execution_count": 2,
   "metadata": {
    "scrolled": true
   },
   "outputs": [
    {
     "data": {
      "text/html": [
       "<div>\n",
       "<style scoped>\n",
       "    .dataframe tbody tr th:only-of-type {\n",
       "        vertical-align: middle;\n",
       "    }\n",
       "\n",
       "    .dataframe tbody tr th {\n",
       "        vertical-align: top;\n",
       "    }\n",
       "\n",
       "    .dataframe thead th {\n",
       "        text-align: right;\n",
       "    }\n",
       "</style>\n",
       "<table border=\"1\" class=\"dataframe\">\n",
       "  <thead>\n",
       "    <tr style=\"text-align: right;\">\n",
       "      <th></th>\n",
       "      <th>user_ID</th>\n",
       "      <th>chapter_ID</th>\n",
       "      <th>relative_renewal_date</th>\n",
       "      <th>P</th>\n",
       "      <th>A</th>\n",
       "      <th>L</th>\n",
       "      <th>M</th>\n",
       "      <th>S</th>\n",
       "      <th>RGI</th>\n",
       "      <th>RGO</th>\n",
       "      <th>RRI</th>\n",
       "      <th>RRO</th>\n",
       "      <th>V</th>\n",
       "      <th>1-2-1</th>\n",
       "      <th>TYFCB</th>\n",
       "      <th>CEU</th>\n",
       "      <th>year_of_membership</th>\n",
       "      <th>chapter_size</th>\n",
       "      <th>chapter_retention_rate</th>\n",
       "      <th>chapter_growth_rate</th>\n",
       "      <th>seat_popularity_rate</th>\n",
       "      <th>total_meetings</th>\n",
       "      <th>wont_renew</th>\n",
       "    </tr>\n",
       "  </thead>\n",
       "  <tbody>\n",
       "    <tr>\n",
       "      <th>0</th>\n",
       "      <td>0</td>\n",
       "      <td>31</td>\n",
       "      <td>2016-04-01</td>\n",
       "      <td>33</td>\n",
       "      <td>0</td>\n",
       "      <td>0</td>\n",
       "      <td>1</td>\n",
       "      <td>0</td>\n",
       "      <td>21</td>\n",
       "      <td>7</td>\n",
       "      <td>33</td>\n",
       "      <td>32</td>\n",
       "      <td>1</td>\n",
       "      <td>37</td>\n",
       "      <td>129784</td>\n",
       "      <td>45</td>\n",
       "      <td>0</td>\n",
       "      <td>32</td>\n",
       "      <td>0.315789</td>\n",
       "      <td>1.421053</td>\n",
       "      <td>0.076923</td>\n",
       "      <td>34</td>\n",
       "      <td>0</td>\n",
       "    </tr>\n",
       "    <tr>\n",
       "      <th>1</th>\n",
       "      <td>2</td>\n",
       "      <td>18</td>\n",
       "      <td>2017-05-01</td>\n",
       "      <td>33</td>\n",
       "      <td>2</td>\n",
       "      <td>2</td>\n",
       "      <td>0</td>\n",
       "      <td>0</td>\n",
       "      <td>6</td>\n",
       "      <td>17</td>\n",
       "      <td>11</td>\n",
       "      <td>22</td>\n",
       "      <td>1</td>\n",
       "      <td>26</td>\n",
       "      <td>9285</td>\n",
       "      <td>1</td>\n",
       "      <td>0</td>\n",
       "      <td>34</td>\n",
       "      <td>0.718750</td>\n",
       "      <td>1.093750</td>\n",
       "      <td>0.266667</td>\n",
       "      <td>37</td>\n",
       "      <td>0</td>\n",
       "    </tr>\n",
       "    <tr>\n",
       "      <th>2</th>\n",
       "      <td>2</td>\n",
       "      <td>18</td>\n",
       "      <td>2018-05-01</td>\n",
       "      <td>35</td>\n",
       "      <td>1</td>\n",
       "      <td>0</td>\n",
       "      <td>0</td>\n",
       "      <td>2</td>\n",
       "      <td>6</td>\n",
       "      <td>24</td>\n",
       "      <td>19</td>\n",
       "      <td>36</td>\n",
       "      <td>1</td>\n",
       "      <td>20</td>\n",
       "      <td>7263</td>\n",
       "      <td>10</td>\n",
       "      <td>1</td>\n",
       "      <td>21</td>\n",
       "      <td>0.424242</td>\n",
       "      <td>0.636364</td>\n",
       "      <td>0.210526</td>\n",
       "      <td>38</td>\n",
       "      <td>0</td>\n",
       "    </tr>\n",
       "    <tr>\n",
       "      <th>3</th>\n",
       "      <td>2</td>\n",
       "      <td>18</td>\n",
       "      <td>2019-05-01</td>\n",
       "      <td>36</td>\n",
       "      <td>0</td>\n",
       "      <td>0</td>\n",
       "      <td>0</td>\n",
       "      <td>1</td>\n",
       "      <td>9</td>\n",
       "      <td>8</td>\n",
       "      <td>23</td>\n",
       "      <td>19</td>\n",
       "      <td>3</td>\n",
       "      <td>28</td>\n",
       "      <td>1860</td>\n",
       "      <td>31</td>\n",
       "      <td>2</td>\n",
       "      <td>22</td>\n",
       "      <td>0.739130</td>\n",
       "      <td>1.217391</td>\n",
       "      <td>0.263158</td>\n",
       "      <td>37</td>\n",
       "      <td>0</td>\n",
       "    </tr>\n",
       "    <tr>\n",
       "      <th>4</th>\n",
       "      <td>2</td>\n",
       "      <td>18</td>\n",
       "      <td>2020-05-01</td>\n",
       "      <td>33</td>\n",
       "      <td>1</td>\n",
       "      <td>0</td>\n",
       "      <td>0</td>\n",
       "      <td>3</td>\n",
       "      <td>10</td>\n",
       "      <td>13</td>\n",
       "      <td>19</td>\n",
       "      <td>47</td>\n",
       "      <td>4</td>\n",
       "      <td>30</td>\n",
       "      <td>6668</td>\n",
       "      <td>16</td>\n",
       "      <td>3</td>\n",
       "      <td>26</td>\n",
       "      <td>0.760000</td>\n",
       "      <td>1.120000</td>\n",
       "      <td>0.277778</td>\n",
       "      <td>37</td>\n",
       "      <td>0</td>\n",
       "    </tr>\n",
       "  </tbody>\n",
       "</table>\n",
       "</div>"
      ],
      "text/plain": [
       "   user_ID  chapter_ID relative_renewal_date   P  A  L  M  S  RGI  RGO  RRI  \\\n",
       "0        0          31            2016-04-01  33  0  0  1  0   21    7   33   \n",
       "1        2          18            2017-05-01  33  2  2  0  0    6   17   11   \n",
       "2        2          18            2018-05-01  35  1  0  0  2    6   24   19   \n",
       "3        2          18            2019-05-01  36  0  0  0  1    9    8   23   \n",
       "4        2          18            2020-05-01  33  1  0  0  3   10   13   19   \n",
       "\n",
       "   RRO  V  1-2-1   TYFCB  CEU  year_of_membership  chapter_size  \\\n",
       "0   32  1     37  129784   45                   0            32   \n",
       "1   22  1     26    9285    1                   0            34   \n",
       "2   36  1     20    7263   10                   1            21   \n",
       "3   19  3     28    1860   31                   2            22   \n",
       "4   47  4     30    6668   16                   3            26   \n",
       "\n",
       "   chapter_retention_rate  chapter_growth_rate  seat_popularity_rate  \\\n",
       "0                0.315789             1.421053              0.076923   \n",
       "1                0.718750             1.093750              0.266667   \n",
       "2                0.424242             0.636364              0.210526   \n",
       "3                0.739130             1.217391              0.263158   \n",
       "4                0.760000             1.120000              0.277778   \n",
       "\n",
       "   total_meetings  wont_renew  \n",
       "0              34           0  \n",
       "1              37           0  \n",
       "2              38           0  \n",
       "3              37           0  \n",
       "4              37           0  "
      ]
     },
     "execution_count": 2,
     "metadata": {},
     "output_type": "execute_result"
    }
   ],
   "source": [
    "df = pd.read_csv(\"data/df_post_EDA.csv\", index_col=0)\n",
    "df.head()"
   ]
  },
  {
   "cell_type": "code",
   "execution_count": 3,
   "metadata": {},
   "outputs": [
    {
     "name": "stdout",
     "output_type": "stream",
     "text": [
      "<class 'pandas.core.frame.DataFrame'>\n",
      "Int64Index: 2191 entries, 0 to 2428\n",
      "Data columns (total 23 columns):\n",
      " #   Column                  Non-Null Count  Dtype  \n",
      "---  ------                  --------------  -----  \n",
      " 0   user_ID                 2191 non-null   int64  \n",
      " 1   chapter_ID              2191 non-null   int64  \n",
      " 2   relative_renewal_date   2191 non-null   object \n",
      " 3   P                       2191 non-null   int64  \n",
      " 4   A                       2191 non-null   int64  \n",
      " 5   L                       2191 non-null   int64  \n",
      " 6   M                       2191 non-null   int64  \n",
      " 7   S                       2191 non-null   int64  \n",
      " 8   RGI                     2191 non-null   int64  \n",
      " 9   RGO                     2191 non-null   int64  \n",
      " 10  RRI                     2191 non-null   int64  \n",
      " 11  RRO                     2191 non-null   int64  \n",
      " 12  V                       2191 non-null   int64  \n",
      " 13  1-2-1                   2191 non-null   int64  \n",
      " 14  TYFCB                   2191 non-null   int64  \n",
      " 15  CEU                     2191 non-null   int64  \n",
      " 16  year_of_membership      2191 non-null   int64  \n",
      " 17  chapter_size            2191 non-null   int64  \n",
      " 18  chapter_retention_rate  2191 non-null   float64\n",
      " 19  chapter_growth_rate     2191 non-null   float64\n",
      " 20  seat_popularity_rate    2191 non-null   float64\n",
      " 21  total_meetings          2191 non-null   int64  \n",
      " 22  wont_renew              2191 non-null   int64  \n",
      "dtypes: float64(3), int64(19), object(1)\n",
      "memory usage: 410.8+ KB\n"
     ]
    }
   ],
   "source": [
    "df.info()"
   ]
  },
  {
   "cell_type": "markdown",
   "metadata": {},
   "source": [
    "### Drop & split"
   ]
  },
  {
   "cell_type": "code",
   "execution_count": 4,
   "metadata": {},
   "outputs": [],
   "source": [
    "df.drop([\"user_ID\", \"relative_renewal_date\",], axis=1, inplace=True)"
   ]
  },
  {
   "cell_type": "markdown",
   "metadata": {},
   "source": [
    "# Prepare data"
   ]
  },
  {
   "cell_type": "code",
   "execution_count": 5,
   "metadata": {},
   "outputs": [],
   "source": [
    "from imblearn.under_sampling import EditedNearestNeighbours, TomekLinks, NeighbourhoodCleaningRule\n",
    "from imblearn.over_sampling import SMOTE, ADASYN\n",
    "from collections import Counter"
   ]
  },
  {
   "cell_type": "code",
   "execution_count": 6,
   "metadata": {},
   "outputs": [
    {
     "name": "stdout",
     "output_type": "stream",
     "text": [
      "Original dataset shape: Counter({0: 1215, 1: 537})\n"
     ]
    }
   ],
   "source": [
    "X = df.drop([\"wont_renew\", \"chapter_ID\"], axis=1).copy()\n",
    "y = df[\"wont_renew\"].copy()\n",
    "\n",
    "X_train, X_test, y_train, y_test = train_test_split(X, y, stratify=y, test_size=0.2, random_state=710)\n",
    "\n",
    "print(\"Original dataset shape: %s\" %Counter(y_train))"
   ]
  },
  {
   "cell_type": "code",
   "execution_count": 7,
   "metadata": {},
   "outputs": [
    {
     "name": "stdout",
     "output_type": "stream",
     "text": [
      "Downsampled dataset shape: Counter({0: 1008, 1: 537})\n"
     ]
    }
   ],
   "source": [
    "under_sampler = TomekLinks()\n",
    "X_resampled, y_resampled = under_sampler.fit_resample(X_train, y_train)\n",
    "print(\"Downsampled dataset shape: %s\" %Counter(y_resampled))"
   ]
  },
  {
   "cell_type": "code",
   "execution_count": 8,
   "metadata": {},
   "outputs": [],
   "source": [
    "scaler = StandardScaler()\n",
    "scaler.fit(X_resampled)\n",
    "X_resampled = pd.DataFrame(scaler.transform(X_resampled), columns=X.columns)\n",
    "X_test = pd.DataFrame(scaler.transform(X_test), columns=X.columns)"
   ]
  },
  {
   "cell_type": "code",
   "execution_count": 9,
   "metadata": {},
   "outputs": [
    {
     "name": "stdout",
     "output_type": "stream",
     "text": [
      "<class 'pandas.core.frame.DataFrame'>\n",
      "RangeIndex: 1545 entries, 0 to 1544\n",
      "Data columns (total 19 columns):\n",
      " #   Column                  Non-Null Count  Dtype  \n",
      "---  ------                  --------------  -----  \n",
      " 0   P                       1545 non-null   float64\n",
      " 1   A                       1545 non-null   float64\n",
      " 2   L                       1545 non-null   float64\n",
      " 3   M                       1545 non-null   float64\n",
      " 4   S                       1545 non-null   float64\n",
      " 5   RGI                     1545 non-null   float64\n",
      " 6   RGO                     1545 non-null   float64\n",
      " 7   RRI                     1545 non-null   float64\n",
      " 8   RRO                     1545 non-null   float64\n",
      " 9   V                       1545 non-null   float64\n",
      " 10  1-2-1                   1545 non-null   float64\n",
      " 11  TYFCB                   1545 non-null   float64\n",
      " 12  CEU                     1545 non-null   float64\n",
      " 13  year_of_membership      1545 non-null   float64\n",
      " 14  chapter_size            1545 non-null   float64\n",
      " 15  chapter_retention_rate  1545 non-null   float64\n",
      " 16  chapter_growth_rate     1545 non-null   float64\n",
      " 17  seat_popularity_rate    1545 non-null   float64\n",
      " 18  total_meetings          1545 non-null   float64\n",
      "dtypes: float64(19)\n",
      "memory usage: 229.5 KB\n"
     ]
    }
   ],
   "source": [
    "X_resampled.info()"
   ]
  },
  {
   "cell_type": "markdown",
   "metadata": {},
   "source": [
    "# Model"
   ]
  },
  {
   "cell_type": "code",
   "execution_count": 10,
   "metadata": {},
   "outputs": [],
   "source": [
    "from sklearn.linear_model import LogisticRegression\n",
    "from sklearn.neighbors import KNeighborsClassifier\n",
    "from sklearn.svm import SVC\n",
    "from sklearn.tree import DecisionTreeClassifier\n",
    "from sklearn.ensemble import RandomForestClassifier, AdaBoostClassifier\n",
    "from sklearn.naive_bayes import GaussianNB\n",
    "from catboost import CatBoostClassifier, Pool\n",
    "import xgboost as xgb\n",
    "\n",
    "from sklearn.model_selection import KFold\n",
    "from sklearn.metrics import roc_auc_score, roc_curve, auc, classification_report\n",
    "from sklearn.metrics import f1_score, precision_score, recall_score, accuracy_score"
   ]
  },
  {
   "cell_type": "code",
   "execution_count": 11,
   "metadata": {},
   "outputs": [],
   "source": [
    "df_scores = pd.DataFrame(columns=[\"training_time [s]\", \"accuracy\", \"precision\", \"recall\", \"f1\", \"auc\"])"
   ]
  },
  {
   "cell_type": "markdown",
   "metadata": {},
   "source": [
    "## 1. Logistic Regression"
   ]
  },
  {
   "cell_type": "code",
   "execution_count": 12,
   "metadata": {},
   "outputs": [
    {
     "name": "stdout",
     "output_type": "stream",
     "text": [
      "Elapsed time: 0.01 seconds\n"
     ]
    },
    {
     "data": {
      "text/html": [
       "<div>\n",
       "<style scoped>\n",
       "    .dataframe tbody tr th:only-of-type {\n",
       "        vertical-align: middle;\n",
       "    }\n",
       "\n",
       "    .dataframe tbody tr th {\n",
       "        vertical-align: top;\n",
       "    }\n",
       "\n",
       "    .dataframe thead th {\n",
       "        text-align: right;\n",
       "    }\n",
       "</style>\n",
       "<table border=\"1\" class=\"dataframe\">\n",
       "  <thead>\n",
       "    <tr style=\"text-align: right;\">\n",
       "      <th></th>\n",
       "      <th>training_time [s]</th>\n",
       "      <th>accuracy</th>\n",
       "      <th>precision</th>\n",
       "      <th>recall</th>\n",
       "      <th>f1</th>\n",
       "      <th>auc</th>\n",
       "    </tr>\n",
       "  </thead>\n",
       "  <tbody>\n",
       "    <tr>\n",
       "      <th>logistic_regression</th>\n",
       "      <td>0.01</td>\n",
       "      <td>0.731207</td>\n",
       "      <td>0.607595</td>\n",
       "      <td>0.355556</td>\n",
       "      <td>0.448598</td>\n",
       "      <td>0.709673</td>\n",
       "    </tr>\n",
       "  </tbody>\n",
       "</table>\n",
       "</div>"
      ],
      "text/plain": [
       "                     training_time [s]  accuracy  precision    recall  \\\n",
       "logistic_regression               0.01  0.731207   0.607595  0.355556   \n",
       "\n",
       "                           f1       auc  \n",
       "logistic_regression  0.448598  0.709673  "
      ]
     },
     "execution_count": 12,
     "metadata": {},
     "output_type": "execute_result"
    }
   ],
   "source": [
    "logreg = LogisticRegression(max_iter=2000)\n",
    "\n",
    "start = time.time()\n",
    "logreg.fit(X_resampled, y_resampled)\n",
    "end = time.time()\n",
    "print(f\"Elapsed time: {(end - start):.2f} seconds\")\n",
    "\n",
    "y_pred = logreg.predict(X_test)\n",
    "y_proba = logreg.predict_proba(X_test)\n",
    "\n",
    "df_scores.loc[\"logistic_regression\"] = [round(end - start, 2),\n",
    "                                        accuracy_score(y_test, y_pred),\n",
    "                                        precision_score(y_test, y_pred),\n",
    "                                        recall_score(y_test, y_pred),\n",
    "                                        f1_score(y_test, y_pred),\n",
    "                                        roc_auc_score(y_test, y_proba[:,1])]\n",
    "df_scores"
   ]
  },
  {
   "cell_type": "markdown",
   "metadata": {},
   "source": [
    "## 2. Naive Bayes"
   ]
  },
  {
   "cell_type": "code",
   "execution_count": 13,
   "metadata": {},
   "outputs": [
    {
     "name": "stdout",
     "output_type": "stream",
     "text": [
      "Elapsed time: 0.00 seconds\n"
     ]
    }
   ],
   "source": [
    "naive_bayes = GaussianNB()\n",
    "\n",
    "start = time.time()\n",
    "naive_bayes.fit(X_resampled, y_resampled)\n",
    "end = time.time()\n",
    "print(f\"Elapsed time: {(end - start):.2f} seconds\")\n",
    "\n",
    "y_pred = naive_bayes.predict(X_test)\n",
    "y_proba = naive_bayes.predict_proba(X_test)\n",
    "\n",
    "df_scores.loc[\"naive_bayes\"] = [round(end - start, 2),\n",
    "                                        accuracy_score(y_test, y_pred),\n",
    "                                        precision_score(y_test, y_pred),\n",
    "                                        recall_score(y_test, y_pred),\n",
    "                                        f1_score(y_test, y_pred),\n",
    "                                        roc_auc_score(y_test, y_proba[:,1])]"
   ]
  },
  {
   "cell_type": "markdown",
   "metadata": {},
   "source": [
    "## 3. K-neighbors classifier"
   ]
  },
  {
   "cell_type": "code",
   "execution_count": 14,
   "metadata": {},
   "outputs": [
    {
     "name": "stdout",
     "output_type": "stream",
     "text": [
      "Elapsed time: 0.00 seconds\n"
     ]
    }
   ],
   "source": [
    "knn = KNeighborsClassifier()\n",
    "\n",
    "start = time.time()\n",
    "knn.fit(X_resampled, y_resampled)\n",
    "end = time.time()\n",
    "print(f\"Elapsed time: {(end - start):.2f} seconds\")\n",
    "\n",
    "y_pred = knn.predict(X_test)\n",
    "y_proba = knn.predict_proba(X_test)\n",
    "\n",
    "df_scores.loc[\"knn\"] = [round(end - start, 2),\n",
    "                                        accuracy_score(y_test, y_pred),\n",
    "                                        precision_score(y_test, y_pred),\n",
    "                                        recall_score(y_test, y_pred),\n",
    "                                        f1_score(y_test, y_pred),\n",
    "                                        roc_auc_score(y_test, y_proba[:,1])]"
   ]
  },
  {
   "cell_type": "markdown",
   "metadata": {},
   "source": [
    "## 4. Decision Tree"
   ]
  },
  {
   "cell_type": "code",
   "execution_count": 15,
   "metadata": {},
   "outputs": [
    {
     "name": "stdout",
     "output_type": "stream",
     "text": [
      "Elapsed time: 0.01 seconds\n"
     ]
    }
   ],
   "source": [
    "dt = DecisionTreeClassifier()\n",
    "\n",
    "start = time.time()\n",
    "dt.fit(X_resampled, y_resampled)\n",
    "end = time.time()\n",
    "print(f\"Elapsed time: {(end - start):.2f} seconds\")\n",
    "\n",
    "y_pred = dt.predict(X_test)\n",
    "y_proba = dt.predict_proba(X_test)\n",
    "\n",
    "df_scores.loc[\"decision_tree\"] = [round(end - start, 2),\n",
    "                                        accuracy_score(y_test, y_pred),\n",
    "                                        precision_score(y_test, y_pred),\n",
    "                                        recall_score(y_test, y_pred),\n",
    "                                        f1_score(y_test, y_pred),\n",
    "                                        roc_auc_score(y_test, y_proba[:,1])]"
   ]
  },
  {
   "cell_type": "markdown",
   "metadata": {},
   "source": [
    "## 5. Random Forest"
   ]
  },
  {
   "cell_type": "code",
   "execution_count": 16,
   "metadata": {},
   "outputs": [
    {
     "name": "stdout",
     "output_type": "stream",
     "text": [
      "Elapsed time: 0.29 seconds\n"
     ]
    }
   ],
   "source": [
    "rf = RandomForestClassifier()\n",
    "\n",
    "start = time.time()\n",
    "rf.fit(X_resampled, y_resampled)\n",
    "end = time.time()\n",
    "print(f\"Elapsed time: {(end - start):.2f} seconds\")\n",
    "\n",
    "y_pred = rf.predict(X_test)\n",
    "y_proba = rf.predict_proba(X_test)\n",
    "\n",
    "df_scores.loc[\"random_forest\"] = [round(end - start, 2),\n",
    "                                        accuracy_score(y_test, y_pred),\n",
    "                                        precision_score(y_test, y_pred),\n",
    "                                        recall_score(y_test, y_pred),\n",
    "                                        f1_score(y_test, y_pred),\n",
    "                                        roc_auc_score(y_test, y_proba[:,1])]"
   ]
  },
  {
   "cell_type": "markdown",
   "metadata": {},
   "source": [
    "## 6. AdaBoost"
   ]
  },
  {
   "cell_type": "code",
   "execution_count": 17,
   "metadata": {},
   "outputs": [
    {
     "name": "stdout",
     "output_type": "stream",
     "text": [
      "Elapsed time: 0.11 seconds\n"
     ]
    }
   ],
   "source": [
    "ada = AdaBoostClassifier()\n",
    "\n",
    "start = time.time()\n",
    "ada.fit(X_resampled, y_resampled)\n",
    "end = time.time()\n",
    "print(f\"Elapsed time: {(end - start):.2f} seconds\")\n",
    "\n",
    "y_pred = ada.predict(X_test)\n",
    "y_proba = ada.predict_proba(X_test)\n",
    "\n",
    "df_scores.loc[\"AdaBoost\"] = [round(end - start, 2),\n",
    "                                        accuracy_score(y_test, y_pred),\n",
    "                                        precision_score(y_test, y_pred),\n",
    "                                        recall_score(y_test, y_pred),\n",
    "                                        f1_score(y_test, y_pred),\n",
    "                                        roc_auc_score(y_test, y_proba[:,1])]"
   ]
  },
  {
   "cell_type": "markdown",
   "metadata": {},
   "source": [
    "## 7. XGBoost"
   ]
  },
  {
   "cell_type": "code",
   "execution_count": 18,
   "metadata": {},
   "outputs": [
    {
     "name": "stdout",
     "output_type": "stream",
     "text": [
      "Elapsed time: 0.11 seconds\n"
     ]
    }
   ],
   "source": [
    "xg = xgb.XGBClassifier(objective='binary:logistic', eval_metric=\"auc\", use_label_encoder=False)\n",
    "\n",
    "start = time.time()\n",
    "xg.fit(X_resampled, y_resampled)\n",
    "end = time.time()\n",
    "print(f\"Elapsed time: {(end - start):.2f} seconds\")\n",
    "\n",
    "y_pred = xg.predict(X_test)\n",
    "y_proba = xg.predict_proba(X_test)\n",
    "\n",
    "df_scores.loc[\"XGBoost\"] = [round(end - start, 2),\n",
    "                                        accuracy_score(y_test, y_pred),\n",
    "                                        precision_score(y_test, y_pred),\n",
    "                                        recall_score(y_test, y_pred),\n",
    "                                        f1_score(y_test, y_pred),\n",
    "                                        roc_auc_score(y_test, y_proba[:,1])]"
   ]
  },
  {
   "cell_type": "markdown",
   "metadata": {},
   "source": [
    "## 8. CatBoost"
   ]
  },
  {
   "cell_type": "code",
   "execution_count": 19,
   "metadata": {},
   "outputs": [
    {
     "name": "stdout",
     "output_type": "stream",
     "text": [
      "Learning rate set to 0.01309\n",
      "0:\ttotal: 176ms\tremaining: 2m 56s\n",
      "200:\ttotal: 6.27s\tremaining: 24.9s\n",
      "400:\ttotal: 11.9s\tremaining: 17.7s\n",
      "600:\ttotal: 17.4s\tremaining: 11.6s\n",
      "800:\ttotal: 23.2s\tremaining: 5.76s\n",
      "999:\ttotal: 28.6s\tremaining: 0us\n",
      "Elapsed time: 28.77 seconds\n"
     ]
    }
   ],
   "source": [
    "X = df.drop([\"wont_renew\"], axis=1).copy()\n",
    "y = df[\"wont_renew\"].copy()\n",
    "\n",
    "X_train, X_test, y_train, y_test = train_test_split(X, y, stratify=y, test_size=0.2, random_state=710)\n",
    "\n",
    "cb = CatBoostClassifier(eval_metric=\"AUC\", cat_features=[\"chapter_ID\"])\n",
    "\n",
    "start = time.time()\n",
    "cb.fit(X_train, y_train, verbose=200)\n",
    "end = time.time()\n",
    "print(f\"Elapsed time: {(end - start):.2f} seconds\")\n",
    "\n",
    "y_pred = cb.predict(X_test)\n",
    "y_proba = cb.predict_proba(X_test)\n",
    "\n",
    "df_scores.loc[\"CatBoost\"] = [round(end - start, 2),\n",
    "                                        accuracy_score(y_test, y_pred),\n",
    "                                        precision_score(y_test, y_pred),\n",
    "                                        recall_score(y_test, y_pred),\n",
    "                                        f1_score(y_test, y_pred),\n",
    "                                        roc_auc_score(y_test, y_proba[:,1])]"
   ]
  },
  {
   "cell_type": "markdown",
   "metadata": {},
   "source": [
    "## Compare results"
   ]
  },
  {
   "cell_type": "code",
   "execution_count": 20,
   "metadata": {},
   "outputs": [
    {
     "data": {
      "text/html": [
       "<div>\n",
       "<style scoped>\n",
       "    .dataframe tbody tr th:only-of-type {\n",
       "        vertical-align: middle;\n",
       "    }\n",
       "\n",
       "    .dataframe tbody tr th {\n",
       "        vertical-align: top;\n",
       "    }\n",
       "\n",
       "    .dataframe thead th {\n",
       "        text-align: right;\n",
       "    }\n",
       "</style>\n",
       "<table border=\"1\" class=\"dataframe\">\n",
       "  <thead>\n",
       "    <tr style=\"text-align: right;\">\n",
       "      <th></th>\n",
       "      <th>training_time [s]</th>\n",
       "      <th>accuracy</th>\n",
       "      <th>precision</th>\n",
       "      <th>recall</th>\n",
       "      <th>f1</th>\n",
       "      <th>auc</th>\n",
       "    </tr>\n",
       "  </thead>\n",
       "  <tbody>\n",
       "    <tr>\n",
       "      <th>CatBoost</th>\n",
       "      <td>28.77</td>\n",
       "      <td>0.712984</td>\n",
       "      <td>0.581818</td>\n",
       "      <td>0.237037</td>\n",
       "      <td>0.336842</td>\n",
       "      <td>0.718007</td>\n",
       "    </tr>\n",
       "    <tr>\n",
       "      <th>logistic_regression</th>\n",
       "      <td>0.01</td>\n",
       "      <td>0.731207</td>\n",
       "      <td>0.607595</td>\n",
       "      <td>0.355556</td>\n",
       "      <td>0.448598</td>\n",
       "      <td>0.709673</td>\n",
       "    </tr>\n",
       "    <tr>\n",
       "      <th>random_forest</th>\n",
       "      <td>0.29</td>\n",
       "      <td>0.712984</td>\n",
       "      <td>0.561644</td>\n",
       "      <td>0.303704</td>\n",
       "      <td>0.394231</td>\n",
       "      <td>0.701462</td>\n",
       "    </tr>\n",
       "    <tr>\n",
       "      <th>naive_bayes</th>\n",
       "      <td>0.00</td>\n",
       "      <td>0.662870</td>\n",
       "      <td>0.465241</td>\n",
       "      <td>0.644444</td>\n",
       "      <td>0.540373</td>\n",
       "      <td>0.696625</td>\n",
       "    </tr>\n",
       "    <tr>\n",
       "      <th>AdaBoost</th>\n",
       "      <td>0.11</td>\n",
       "      <td>0.717540</td>\n",
       "      <td>0.567901</td>\n",
       "      <td>0.340741</td>\n",
       "      <td>0.425926</td>\n",
       "      <td>0.683394</td>\n",
       "    </tr>\n",
       "    <tr>\n",
       "      <th>XGBoost</th>\n",
       "      <td>0.11</td>\n",
       "      <td>0.703872</td>\n",
       "      <td>0.523810</td>\n",
       "      <td>0.407407</td>\n",
       "      <td>0.458333</td>\n",
       "      <td>0.680799</td>\n",
       "    </tr>\n",
       "    <tr>\n",
       "      <th>knn</th>\n",
       "      <td>0.00</td>\n",
       "      <td>0.669704</td>\n",
       "      <td>0.450980</td>\n",
       "      <td>0.340741</td>\n",
       "      <td>0.388186</td>\n",
       "      <td>0.622222</td>\n",
       "    </tr>\n",
       "    <tr>\n",
       "      <th>decision_tree</th>\n",
       "      <td>0.01</td>\n",
       "      <td>0.567198</td>\n",
       "      <td>0.348066</td>\n",
       "      <td>0.466667</td>\n",
       "      <td>0.398734</td>\n",
       "      <td>0.539254</td>\n",
       "    </tr>\n",
       "  </tbody>\n",
       "</table>\n",
       "</div>"
      ],
      "text/plain": [
       "                     training_time [s]  accuracy  precision    recall  \\\n",
       "CatBoost                         28.77  0.712984   0.581818  0.237037   \n",
       "logistic_regression               0.01  0.731207   0.607595  0.355556   \n",
       "random_forest                     0.29  0.712984   0.561644  0.303704   \n",
       "naive_bayes                       0.00  0.662870   0.465241  0.644444   \n",
       "AdaBoost                          0.11  0.717540   0.567901  0.340741   \n",
       "XGBoost                           0.11  0.703872   0.523810  0.407407   \n",
       "knn                               0.00  0.669704   0.450980  0.340741   \n",
       "decision_tree                     0.01  0.567198   0.348066  0.466667   \n",
       "\n",
       "                           f1       auc  \n",
       "CatBoost             0.336842  0.718007  \n",
       "logistic_regression  0.448598  0.709673  \n",
       "random_forest        0.394231  0.701462  \n",
       "naive_bayes          0.540373  0.696625  \n",
       "AdaBoost             0.425926  0.683394  \n",
       "XGBoost              0.458333  0.680799  \n",
       "knn                  0.388186  0.622222  \n",
       "decision_tree        0.398734  0.539254  "
      ]
     },
     "execution_count": 20,
     "metadata": {},
     "output_type": "execute_result"
    }
   ],
   "source": [
    "df_scores.sort_values(\"auc\", ascending=False)"
   ]
  },
  {
   "cell_type": "code",
   "execution_count": 21,
   "metadata": {},
   "outputs": [],
   "source": [
    "df_scores.to_csv(\"model_scores_step4.csv\")"
   ]
  },
  {
   "cell_type": "code",
   "execution_count": null,
   "metadata": {},
   "outputs": [],
   "source": []
  }
 ],
 "metadata": {
  "kernelspec": {
   "display_name": "Python 3",
   "language": "python",
   "name": "python3"
  },
  "language_info": {
   "codemirror_mode": {
    "name": "ipython",
    "version": 3
   },
   "file_extension": ".py",
   "mimetype": "text/x-python",
   "name": "python",
   "nbconvert_exporter": "python",
   "pygments_lexer": "ipython3",
   "version": "3.8.3"
  }
 },
 "nbformat": 4,
 "nbformat_minor": 4
}
