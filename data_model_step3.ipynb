{
 "cells": [
  {
   "cell_type": "code",
   "execution_count": 1,
   "metadata": {},
   "outputs": [],
   "source": [
    "import pandas as pd\n",
    "import numpy as np\n",
    "import seaborn as sns\n",
    "import matplotlib.pyplot as plt\n",
    "import time\n",
    "\n",
    "from sklearn.model_selection import train_test_split\n",
    "from sklearn.preprocessing import StandardScaler\n",
    "\n",
    "pd.set_option('display.max_columns', 30)"
   ]
  },
  {
   "cell_type": "code",
   "execution_count": 2,
   "metadata": {
    "scrolled": true
   },
   "outputs": [
    {
     "data": {
      "text/html": [
       "<div>\n",
       "<style scoped>\n",
       "    .dataframe tbody tr th:only-of-type {\n",
       "        vertical-align: middle;\n",
       "    }\n",
       "\n",
       "    .dataframe tbody tr th {\n",
       "        vertical-align: top;\n",
       "    }\n",
       "\n",
       "    .dataframe thead th {\n",
       "        text-align: right;\n",
       "    }\n",
       "</style>\n",
       "<table border=\"1\" class=\"dataframe\">\n",
       "  <thead>\n",
       "    <tr style=\"text-align: right;\">\n",
       "      <th></th>\n",
       "      <th>user_ID</th>\n",
       "      <th>chapter_ID</th>\n",
       "      <th>relative_renewal_date</th>\n",
       "      <th>P</th>\n",
       "      <th>A</th>\n",
       "      <th>L</th>\n",
       "      <th>M</th>\n",
       "      <th>S</th>\n",
       "      <th>RGI</th>\n",
       "      <th>RGO</th>\n",
       "      <th>RRI</th>\n",
       "      <th>RRO</th>\n",
       "      <th>V</th>\n",
       "      <th>1-2-1</th>\n",
       "      <th>TYFCB</th>\n",
       "      <th>CEU</th>\n",
       "      <th>year_of_membership</th>\n",
       "      <th>chapter_size</th>\n",
       "      <th>chapter_retention_rate</th>\n",
       "      <th>chapter_growth_rate</th>\n",
       "      <th>seat_popularity_rate</th>\n",
       "      <th>total_meetings</th>\n",
       "      <th>wont_renew</th>\n",
       "    </tr>\n",
       "  </thead>\n",
       "  <tbody>\n",
       "    <tr>\n",
       "      <th>0</th>\n",
       "      <td>0</td>\n",
       "      <td>31</td>\n",
       "      <td>2016-04-01</td>\n",
       "      <td>33</td>\n",
       "      <td>0</td>\n",
       "      <td>0</td>\n",
       "      <td>1</td>\n",
       "      <td>0</td>\n",
       "      <td>21</td>\n",
       "      <td>7</td>\n",
       "      <td>33</td>\n",
       "      <td>32</td>\n",
       "      <td>1</td>\n",
       "      <td>37</td>\n",
       "      <td>129784</td>\n",
       "      <td>45</td>\n",
       "      <td>0</td>\n",
       "      <td>32</td>\n",
       "      <td>0.315789</td>\n",
       "      <td>1.421053</td>\n",
       "      <td>0.076923</td>\n",
       "      <td>34</td>\n",
       "      <td>0</td>\n",
       "    </tr>\n",
       "    <tr>\n",
       "      <th>1</th>\n",
       "      <td>2</td>\n",
       "      <td>18</td>\n",
       "      <td>2017-05-01</td>\n",
       "      <td>33</td>\n",
       "      <td>2</td>\n",
       "      <td>2</td>\n",
       "      <td>0</td>\n",
       "      <td>0</td>\n",
       "      <td>6</td>\n",
       "      <td>17</td>\n",
       "      <td>11</td>\n",
       "      <td>22</td>\n",
       "      <td>1</td>\n",
       "      <td>26</td>\n",
       "      <td>9285</td>\n",
       "      <td>1</td>\n",
       "      <td>0</td>\n",
       "      <td>34</td>\n",
       "      <td>0.718750</td>\n",
       "      <td>1.093750</td>\n",
       "      <td>0.266667</td>\n",
       "      <td>37</td>\n",
       "      <td>0</td>\n",
       "    </tr>\n",
       "    <tr>\n",
       "      <th>2</th>\n",
       "      <td>2</td>\n",
       "      <td>18</td>\n",
       "      <td>2018-05-01</td>\n",
       "      <td>35</td>\n",
       "      <td>1</td>\n",
       "      <td>0</td>\n",
       "      <td>0</td>\n",
       "      <td>2</td>\n",
       "      <td>6</td>\n",
       "      <td>24</td>\n",
       "      <td>19</td>\n",
       "      <td>36</td>\n",
       "      <td>1</td>\n",
       "      <td>20</td>\n",
       "      <td>7263</td>\n",
       "      <td>10</td>\n",
       "      <td>1</td>\n",
       "      <td>21</td>\n",
       "      <td>0.424242</td>\n",
       "      <td>0.636364</td>\n",
       "      <td>0.210526</td>\n",
       "      <td>38</td>\n",
       "      <td>0</td>\n",
       "    </tr>\n",
       "    <tr>\n",
       "      <th>3</th>\n",
       "      <td>2</td>\n",
       "      <td>18</td>\n",
       "      <td>2019-05-01</td>\n",
       "      <td>36</td>\n",
       "      <td>0</td>\n",
       "      <td>0</td>\n",
       "      <td>0</td>\n",
       "      <td>1</td>\n",
       "      <td>9</td>\n",
       "      <td>8</td>\n",
       "      <td>23</td>\n",
       "      <td>19</td>\n",
       "      <td>3</td>\n",
       "      <td>28</td>\n",
       "      <td>1860</td>\n",
       "      <td>31</td>\n",
       "      <td>2</td>\n",
       "      <td>22</td>\n",
       "      <td>0.739130</td>\n",
       "      <td>1.217391</td>\n",
       "      <td>0.263158</td>\n",
       "      <td>37</td>\n",
       "      <td>0</td>\n",
       "    </tr>\n",
       "    <tr>\n",
       "      <th>4</th>\n",
       "      <td>2</td>\n",
       "      <td>18</td>\n",
       "      <td>2020-05-01</td>\n",
       "      <td>33</td>\n",
       "      <td>1</td>\n",
       "      <td>0</td>\n",
       "      <td>0</td>\n",
       "      <td>3</td>\n",
       "      <td>10</td>\n",
       "      <td>13</td>\n",
       "      <td>19</td>\n",
       "      <td>47</td>\n",
       "      <td>4</td>\n",
       "      <td>30</td>\n",
       "      <td>6668</td>\n",
       "      <td>16</td>\n",
       "      <td>3</td>\n",
       "      <td>26</td>\n",
       "      <td>0.760000</td>\n",
       "      <td>1.120000</td>\n",
       "      <td>0.277778</td>\n",
       "      <td>37</td>\n",
       "      <td>0</td>\n",
       "    </tr>\n",
       "  </tbody>\n",
       "</table>\n",
       "</div>"
      ],
      "text/plain": [
       "   user_ID  chapter_ID relative_renewal_date   P  A  L  M  S  RGI  RGO  RRI  \\\n",
       "0        0          31            2016-04-01  33  0  0  1  0   21    7   33   \n",
       "1        2          18            2017-05-01  33  2  2  0  0    6   17   11   \n",
       "2        2          18            2018-05-01  35  1  0  0  2    6   24   19   \n",
       "3        2          18            2019-05-01  36  0  0  0  1    9    8   23   \n",
       "4        2          18            2020-05-01  33  1  0  0  3   10   13   19   \n",
       "\n",
       "   RRO  V  1-2-1   TYFCB  CEU  year_of_membership  chapter_size  \\\n",
       "0   32  1     37  129784   45                   0            32   \n",
       "1   22  1     26    9285    1                   0            34   \n",
       "2   36  1     20    7263   10                   1            21   \n",
       "3   19  3     28    1860   31                   2            22   \n",
       "4   47  4     30    6668   16                   3            26   \n",
       "\n",
       "   chapter_retention_rate  chapter_growth_rate  seat_popularity_rate  \\\n",
       "0                0.315789             1.421053              0.076923   \n",
       "1                0.718750             1.093750              0.266667   \n",
       "2                0.424242             0.636364              0.210526   \n",
       "3                0.739130             1.217391              0.263158   \n",
       "4                0.760000             1.120000              0.277778   \n",
       "\n",
       "   total_meetings  wont_renew  \n",
       "0              34           0  \n",
       "1              37           0  \n",
       "2              38           0  \n",
       "3              37           0  \n",
       "4              37           0  "
      ]
     },
     "execution_count": 2,
     "metadata": {},
     "output_type": "execute_result"
    }
   ],
   "source": [
    "df = pd.read_csv(\"data/df_post_EDA.csv\", index_col=0)\n",
    "df.head()"
   ]
  },
  {
   "cell_type": "code",
   "execution_count": 3,
   "metadata": {},
   "outputs": [
    {
     "name": "stdout",
     "output_type": "stream",
     "text": [
      "<class 'pandas.core.frame.DataFrame'>\n",
      "Int64Index: 2191 entries, 0 to 2428\n",
      "Data columns (total 23 columns):\n",
      " #   Column                  Non-Null Count  Dtype  \n",
      "---  ------                  --------------  -----  \n",
      " 0   user_ID                 2191 non-null   int64  \n",
      " 1   chapter_ID              2191 non-null   int64  \n",
      " 2   relative_renewal_date   2191 non-null   object \n",
      " 3   P                       2191 non-null   int64  \n",
      " 4   A                       2191 non-null   int64  \n",
      " 5   L                       2191 non-null   int64  \n",
      " 6   M                       2191 non-null   int64  \n",
      " 7   S                       2191 non-null   int64  \n",
      " 8   RGI                     2191 non-null   int64  \n",
      " 9   RGO                     2191 non-null   int64  \n",
      " 10  RRI                     2191 non-null   int64  \n",
      " 11  RRO                     2191 non-null   int64  \n",
      " 12  V                       2191 non-null   int64  \n",
      " 13  1-2-1                   2191 non-null   int64  \n",
      " 14  TYFCB                   2191 non-null   int64  \n",
      " 15  CEU                     2191 non-null   int64  \n",
      " 16  year_of_membership      2191 non-null   int64  \n",
      " 17  chapter_size            2191 non-null   int64  \n",
      " 18  chapter_retention_rate  2191 non-null   float64\n",
      " 19  chapter_growth_rate     2191 non-null   float64\n",
      " 20  seat_popularity_rate    2191 non-null   float64\n",
      " 21  total_meetings          2191 non-null   int64  \n",
      " 22  wont_renew              2191 non-null   int64  \n",
      "dtypes: float64(3), int64(19), object(1)\n",
      "memory usage: 410.8+ KB\n"
     ]
    }
   ],
   "source": [
    "df.info()"
   ]
  },
  {
   "cell_type": "markdown",
   "metadata": {},
   "source": [
    "### Drop & split"
   ]
  },
  {
   "cell_type": "code",
   "execution_count": 4,
   "metadata": {},
   "outputs": [],
   "source": [
    "df.drop([\"user_ID\",\n",
    "         \"relative_renewal_date\",\n",
    "         \"year_of_membership\",\n",
    "         \"chapter_size\",\n",
    "         \"chapter_retention_rate\",\n",
    "         \"chapter_growth_rate\",\n",
    "         \"seat_popularity_rate\",\n",
    "         \"total_meetings\"], axis=1, inplace=True)"
   ]
  },
  {
   "cell_type": "markdown",
   "metadata": {},
   "source": [
    "# Re-sample"
   ]
  },
  {
   "cell_type": "code",
   "execution_count": 5,
   "metadata": {},
   "outputs": [],
   "source": [
    "from sklearn.linear_model import LogisticRegression\n",
    "from sklearn.neighbors import KNeighborsClassifier\n",
    "from sklearn.svm import SVC\n",
    "from sklearn.tree import DecisionTreeClassifier\n",
    "from sklearn.ensemble import RandomForestClassifier, AdaBoostClassifier\n",
    "from catboost import CatBoostClassifier, Pool\n",
    "import xgboost as xgb\n",
    "\n",
    "from sklearn.model_selection import KFold\n",
    "from sklearn.metrics import roc_auc_score, roc_curve, auc, classification_report\n",
    "from sklearn.metrics import f1_score, precision_score, recall_score, accuracy_score\n",
    "\n",
    "from imblearn.under_sampling import EditedNearestNeighbours, TomekLinks, NeighbourhoodCleaningRule\n",
    "from imblearn.over_sampling import SMOTE, ADASYN\n",
    "from collections import Counter"
   ]
  },
  {
   "cell_type": "markdown",
   "metadata": {},
   "source": [
    "## Strategy 1: downsample majority"
   ]
  },
  {
   "cell_type": "code",
   "execution_count": 6,
   "metadata": {},
   "outputs": [
    {
     "name": "stdout",
     "output_type": "stream",
     "text": [
      "Original dataset shape: Counter({0: 1215, 1: 537})\n"
     ]
    }
   ],
   "source": [
    "X = df.drop([\"wont_renew\", \"chapter_ID\"], axis=1).copy()\n",
    "y = df[\"wont_renew\"].copy()\n",
    "\n",
    "X_train, X_test, y_train, y_test = train_test_split(X, y, stratify=y, test_size=0.2, random_state=710)\n",
    "\n",
    "print(\"Original dataset shape: %s\" %Counter(y_train))"
   ]
  },
  {
   "cell_type": "code",
   "execution_count": 7,
   "metadata": {},
   "outputs": [
    {
     "name": "stdout",
     "output_type": "stream",
     "text": [
      "Downsampled dataset shape: Counter({0: 1005, 1: 537})\n"
     ]
    }
   ],
   "source": [
    "under_sampler = TomekLinks()\n",
    "X_resampled, y_resampled = under_sampler.fit_resample(X_train, y_train)\n",
    "print(\"Downsampled dataset shape: %s\" %Counter(y_resampled))"
   ]
  },
  {
   "cell_type": "code",
   "execution_count": 8,
   "metadata": {},
   "outputs": [],
   "source": [
    "scaler = StandardScaler()\n",
    "scaler.fit(X_resampled)\n",
    "X_resampled = pd.DataFrame(scaler.transform(X_resampled), columns=X.columns)\n",
    "X_test = pd.DataFrame(scaler.transform(X_test), columns=X.columns)"
   ]
  },
  {
   "cell_type": "code",
   "execution_count": 9,
   "metadata": {},
   "outputs": [
    {
     "name": "stdout",
     "output_type": "stream",
     "text": [
      "<class 'pandas.core.frame.DataFrame'>\n",
      "RangeIndex: 1542 entries, 0 to 1541\n",
      "Data columns (total 13 columns):\n",
      " #   Column  Non-Null Count  Dtype  \n",
      "---  ------  --------------  -----  \n",
      " 0   P       1542 non-null   float64\n",
      " 1   A       1542 non-null   float64\n",
      " 2   L       1542 non-null   float64\n",
      " 3   M       1542 non-null   float64\n",
      " 4   S       1542 non-null   float64\n",
      " 5   RGI     1542 non-null   float64\n",
      " 6   RGO     1542 non-null   float64\n",
      " 7   RRI     1542 non-null   float64\n",
      " 8   RRO     1542 non-null   float64\n",
      " 9   V       1542 non-null   float64\n",
      " 10  1-2-1   1542 non-null   float64\n",
      " 11  TYFCB   1542 non-null   float64\n",
      " 12  CEU     1542 non-null   float64\n",
      "dtypes: float64(13)\n",
      "memory usage: 156.7 KB\n"
     ]
    }
   ],
   "source": [
    "X_resampled.info()"
   ]
  },
  {
   "cell_type": "markdown",
   "metadata": {},
   "source": [
    "# Model"
   ]
  },
  {
   "cell_type": "code",
   "execution_count": 10,
   "metadata": {},
   "outputs": [],
   "source": [
    "df_scores1 = pd.DataFrame(columns=[\"training_time [s]\", \"accuracy\", \"precision\", \"recall\", \"f1\", \"auc\"])"
   ]
  },
  {
   "cell_type": "markdown",
   "metadata": {},
   "source": [
    "## 1. Logistic Regression"
   ]
  },
  {
   "cell_type": "code",
   "execution_count": 11,
   "metadata": {},
   "outputs": [
    {
     "name": "stdout",
     "output_type": "stream",
     "text": [
      "Elapsed time: 0.01 seconds\n"
     ]
    },
    {
     "data": {
      "text/html": [
       "<div>\n",
       "<style scoped>\n",
       "    .dataframe tbody tr th:only-of-type {\n",
       "        vertical-align: middle;\n",
       "    }\n",
       "\n",
       "    .dataframe tbody tr th {\n",
       "        vertical-align: top;\n",
       "    }\n",
       "\n",
       "    .dataframe thead th {\n",
       "        text-align: right;\n",
       "    }\n",
       "</style>\n",
       "<table border=\"1\" class=\"dataframe\">\n",
       "  <thead>\n",
       "    <tr style=\"text-align: right;\">\n",
       "      <th></th>\n",
       "      <th>training_time [s]</th>\n",
       "      <th>accuracy</th>\n",
       "      <th>precision</th>\n",
       "      <th>recall</th>\n",
       "      <th>f1</th>\n",
       "      <th>auc</th>\n",
       "    </tr>\n",
       "  </thead>\n",
       "  <tbody>\n",
       "    <tr>\n",
       "      <th>logistic_regression</th>\n",
       "      <td>0.01</td>\n",
       "      <td>0.735763</td>\n",
       "      <td>0.637681</td>\n",
       "      <td>0.325926</td>\n",
       "      <td>0.431373</td>\n",
       "      <td>0.701072</td>\n",
       "    </tr>\n",
       "  </tbody>\n",
       "</table>\n",
       "</div>"
      ],
      "text/plain": [
       "                     training_time [s]  accuracy  precision    recall  \\\n",
       "logistic_regression               0.01  0.735763   0.637681  0.325926   \n",
       "\n",
       "                           f1       auc  \n",
       "logistic_regression  0.431373  0.701072  "
      ]
     },
     "execution_count": 11,
     "metadata": {},
     "output_type": "execute_result"
    }
   ],
   "source": [
    "logreg = LogisticRegression(max_iter=2000)\n",
    "\n",
    "start = time.time()\n",
    "logreg.fit(X_resampled, y_resampled)\n",
    "end = time.time()\n",
    "print(f\"Elapsed time: {(end - start):.2f} seconds\")\n",
    "\n",
    "y_pred = logreg.predict(X_test)\n",
    "y_proba = logreg.predict_proba(X_test)\n",
    "\n",
    "df_scores1.loc[\"logistic_regression\"] = [round(end - start, 2),\n",
    "                                        accuracy_score(y_test, y_pred),\n",
    "                                        precision_score(y_test, y_pred),\n",
    "                                        recall_score(y_test, y_pred),\n",
    "                                        f1_score(y_test, y_pred),\n",
    "                                        roc_auc_score(y_test, y_proba[:,1])]\n",
    "df_scores1"
   ]
  },
  {
   "cell_type": "markdown",
   "metadata": {},
   "source": [
    "## 2. K-neighbors classifier"
   ]
  },
  {
   "cell_type": "code",
   "execution_count": 12,
   "metadata": {},
   "outputs": [
    {
     "name": "stdout",
     "output_type": "stream",
     "text": [
      "Elapsed time: 0 minutes 0.01 seconds\n"
     ]
    }
   ],
   "source": [
    "knn = KNeighborsClassifier()\n",
    "\n",
    "start = time.time()\n",
    "knn.fit(X_resampled, y_resampled)\n",
    "end = time.time()\n",
    "print(f\"Elapsed time: {(end - start) // 60:.0f} minutes {(end - start):.2f} seconds\")\n",
    "\n",
    "y_pred = knn.predict(X_test)\n",
    "y_proba = knn.predict_proba(X_test)\n",
    "\n",
    "df_scores1.loc[\"knn\"] = [round(end - start, 2),\n",
    "                                        accuracy_score(y_test, y_pred),\n",
    "                                        precision_score(y_test, y_pred),\n",
    "                                        recall_score(y_test, y_pred),\n",
    "                                        f1_score(y_test, y_pred),\n",
    "                                        roc_auc_score(y_test, y_proba[:,1])]"
   ]
  },
  {
   "cell_type": "markdown",
   "metadata": {},
   "source": [
    "## 3. Decision Tree"
   ]
  },
  {
   "cell_type": "code",
   "execution_count": 13,
   "metadata": {},
   "outputs": [
    {
     "name": "stdout",
     "output_type": "stream",
     "text": [
      "Elapsed time: 0 minutes 0.01 seconds\n"
     ]
    }
   ],
   "source": [
    "dt = DecisionTreeClassifier()\n",
    "\n",
    "start = time.time()\n",
    "dt.fit(X_resampled, y_resampled)\n",
    "end = time.time()\n",
    "print(f\"Elapsed time: {(end - start) // 60:.0f} minutes {(end - start):.2f} seconds\")\n",
    "\n",
    "y_pred = dt.predict(X_test)\n",
    "y_proba = dt.predict_proba(X_test)\n",
    "\n",
    "df_scores1.loc[\"decision_tree\"] = [round(end - start, 2),\n",
    "                                        accuracy_score(y_test, y_pred),\n",
    "                                        precision_score(y_test, y_pred),\n",
    "                                        recall_score(y_test, y_pred),\n",
    "                                        f1_score(y_test, y_pred),\n",
    "                                        roc_auc_score(y_test, y_proba[:,1])]"
   ]
  },
  {
   "cell_type": "markdown",
   "metadata": {},
   "source": [
    "## 4. Random Forest"
   ]
  },
  {
   "cell_type": "code",
   "execution_count": 14,
   "metadata": {},
   "outputs": [
    {
     "name": "stdout",
     "output_type": "stream",
     "text": [
      "Elapsed time: 0 minutes 0.25 seconds\n"
     ]
    }
   ],
   "source": [
    "rf = RandomForestClassifier()\n",
    "\n",
    "start = time.time()\n",
    "rf.fit(X_resampled, y_resampled)\n",
    "end = time.time()\n",
    "print(f\"Elapsed time: {(end - start) // 60:.0f} minutes {(end - start):.2f} seconds\")\n",
    "\n",
    "y_pred = rf.predict(X_test)\n",
    "y_proba = rf.predict_proba(X_test)\n",
    "\n",
    "df_scores1.loc[\"random_forest\"] = [round(end - start, 2),\n",
    "                                        accuracy_score(y_test, y_pred),\n",
    "                                        precision_score(y_test, y_pred),\n",
    "                                        recall_score(y_test, y_pred),\n",
    "                                        f1_score(y_test, y_pred),\n",
    "                                        roc_auc_score(y_test, y_proba[:,1])]"
   ]
  },
  {
   "cell_type": "markdown",
   "metadata": {},
   "source": [
    "## 5. AdaBoost"
   ]
  },
  {
   "cell_type": "code",
   "execution_count": 15,
   "metadata": {},
   "outputs": [
    {
     "name": "stdout",
     "output_type": "stream",
     "text": [
      "Elapsed time: 0 minutes 0.10 seconds\n"
     ]
    }
   ],
   "source": [
    "ada = AdaBoostClassifier()\n",
    "\n",
    "start = time.time()\n",
    "ada.fit(X_resampled, y_resampled)\n",
    "end = time.time()\n",
    "print(f\"Elapsed time: {(end - start) // 60:.0f} minutes {(end - start):.2f} seconds\")\n",
    "\n",
    "y_pred = ada.predict(X_test)\n",
    "y_proba = ada.predict_proba(X_test)\n",
    "\n",
    "df_scores1.loc[\"AdaBoost\"] = [round(end - start, 2),\n",
    "                                        accuracy_score(y_test, y_pred),\n",
    "                                        precision_score(y_test, y_pred),\n",
    "                                        recall_score(y_test, y_pred),\n",
    "                                        f1_score(y_test, y_pred),\n",
    "                                        roc_auc_score(y_test, y_proba[:,1])]"
   ]
  },
  {
   "cell_type": "markdown",
   "metadata": {},
   "source": [
    "## 6. XGBoost"
   ]
  },
  {
   "cell_type": "code",
   "execution_count": 16,
   "metadata": {},
   "outputs": [
    {
     "name": "stdout",
     "output_type": "stream",
     "text": [
      "Elapsed time: 0 minutes 0.12 seconds\n"
     ]
    }
   ],
   "source": [
    "xg = xgb.XGBClassifier(objective='binary:logistic', eval_metric=\"auc\", use_label_encoder=False)\n",
    "\n",
    "start = time.time()\n",
    "xg.fit(X_resampled, y_resampled)\n",
    "end = time.time()\n",
    "print(f\"Elapsed time: {(end - start) // 60:.0f} minutes {(end - start):.2f} seconds\")\n",
    "\n",
    "y_pred = xg.predict(X_test)\n",
    "y_proba = xg.predict_proba(X_test)\n",
    "\n",
    "df_scores1.loc[\"XGBoost\"] = [round(end - start, 2),\n",
    "                                        accuracy_score(y_test, y_pred),\n",
    "                                        precision_score(y_test, y_pred),\n",
    "                                        recall_score(y_test, y_pred),\n",
    "                                        f1_score(y_test, y_pred),\n",
    "                                        roc_auc_score(y_test, y_proba[:,1])]"
   ]
  },
  {
   "cell_type": "markdown",
   "metadata": {},
   "source": [
    "## 7. CatBoost"
   ]
  },
  {
   "cell_type": "code",
   "execution_count": 17,
   "metadata": {},
   "outputs": [
    {
     "name": "stdout",
     "output_type": "stream",
     "text": [
      "Learning rate set to 0.012388\n",
      "0:\tlearn: 0.6905031\ttotal: 186ms\tremaining: 3m 5s\n",
      "100:\tlearn: 0.5649444\ttotal: 2.79s\tremaining: 24.8s\n",
      "200:\tlearn: 0.5228478\ttotal: 5.38s\tremaining: 21.4s\n",
      "300:\tlearn: 0.4950302\ttotal: 7.77s\tremaining: 18s\n",
      "400:\tlearn: 0.4751276\ttotal: 10.2s\tremaining: 15.3s\n",
      "500:\tlearn: 0.4550220\ttotal: 12.7s\tremaining: 12.6s\n",
      "600:\tlearn: 0.4334178\ttotal: 15.1s\tremaining: 10s\n",
      "700:\tlearn: 0.4089121\ttotal: 17.4s\tremaining: 7.43s\n",
      "800:\tlearn: 0.3859090\ttotal: 19.8s\tremaining: 4.92s\n",
      "900:\tlearn: 0.3653110\ttotal: 22.2s\tremaining: 2.44s\n",
      "999:\tlearn: 0.3467367\ttotal: 24.6s\tremaining: 0us\n",
      "Elapsed time: 0 minutes 24.73 seconds\n"
     ]
    }
   ],
   "source": [
    "X = df.drop([\"wont_renew\"], axis=1).copy()\n",
    "y = df[\"wont_renew\"].copy()\n",
    "\n",
    "X_train, X_test, y_train, y_test = train_test_split(X, y, stratify=y, test_size=0.2, random_state=710)\n",
    "\n",
    "under_sampler = TomekLinks()\n",
    "X_resampled, y_resampled = under_sampler.fit_resample(X_train, y_train)\n",
    "\n",
    "scaler = StandardScaler()\n",
    "scaler.fit(X_resampled)\n",
    "\n",
    "X_train = pd.DataFrame(scaler.transform(X_resampled), columns=X.columns)\n",
    "X_test = pd.DataFrame(scaler.transform(X_test), columns=X.columns)\n",
    "\n",
    "X_train[\"chapter_ID\"] = X_train[\"chapter_ID\"].astype(\"str\")\n",
    "X_test[\"chapter_ID\"] = X_test[\"chapter_ID\"].astype(\"str\")\n",
    "\n",
    "cb = CatBoostClassifier()\n",
    "\n",
    "start = time.time()\n",
    "cb.fit(X_resampled, y_resampled, verbose=100, cat_features=[\"chapter_ID\"])\n",
    "end = time.time()\n",
    "print(f\"Elapsed time: {(end - start) // 60:.0f} minutes {(end - start):.2f} seconds\")\n",
    "\n",
    "y_pred = cb.predict(X_test)\n",
    "y_proba = cb.predict_proba(X_test)\n",
    "\n",
    "df_scores1.loc[\"CatBoost\"] = [round(end - start, 2),\n",
    "                                        accuracy_score(y_test, y_pred),\n",
    "                                        precision_score(y_test, y_pred),\n",
    "                                        recall_score(y_test, y_pred),\n",
    "                                        f1_score(y_test, y_pred),\n",
    "                                        roc_auc_score(y_test, y_proba[:,1])]"
   ]
  },
  {
   "cell_type": "markdown",
   "metadata": {},
   "source": [
    "## Compare results"
   ]
  },
  {
   "cell_type": "code",
   "execution_count": 18,
   "metadata": {},
   "outputs": [
    {
     "data": {
      "text/html": [
       "<div>\n",
       "<style scoped>\n",
       "    .dataframe tbody tr th:only-of-type {\n",
       "        vertical-align: middle;\n",
       "    }\n",
       "\n",
       "    .dataframe tbody tr th {\n",
       "        vertical-align: top;\n",
       "    }\n",
       "\n",
       "    .dataframe thead th {\n",
       "        text-align: right;\n",
       "    }\n",
       "</style>\n",
       "<table border=\"1\" class=\"dataframe\">\n",
       "  <thead>\n",
       "    <tr style=\"text-align: right;\">\n",
       "      <th></th>\n",
       "      <th>training_time [s]</th>\n",
       "      <th>accuracy</th>\n",
       "      <th>precision</th>\n",
       "      <th>recall</th>\n",
       "      <th>f1</th>\n",
       "      <th>auc</th>\n",
       "    </tr>\n",
       "  </thead>\n",
       "  <tbody>\n",
       "    <tr>\n",
       "      <th>logistic_regression</th>\n",
       "      <td>0.01</td>\n",
       "      <td>0.735763</td>\n",
       "      <td>0.637681</td>\n",
       "      <td>0.325926</td>\n",
       "      <td>0.431373</td>\n",
       "      <td>0.701072</td>\n",
       "    </tr>\n",
       "    <tr>\n",
       "      <th>XGBoost</th>\n",
       "      <td>0.12</td>\n",
       "      <td>0.687927</td>\n",
       "      <td>0.490000</td>\n",
       "      <td>0.362963</td>\n",
       "      <td>0.417021</td>\n",
       "      <td>0.678095</td>\n",
       "    </tr>\n",
       "    <tr>\n",
       "      <th>AdaBoost</th>\n",
       "      <td>0.10</td>\n",
       "      <td>0.719818</td>\n",
       "      <td>0.566667</td>\n",
       "      <td>0.377778</td>\n",
       "      <td>0.453333</td>\n",
       "      <td>0.674488</td>\n",
       "    </tr>\n",
       "    <tr>\n",
       "      <th>random_forest</th>\n",
       "      <td>0.25</td>\n",
       "      <td>0.681093</td>\n",
       "      <td>0.471910</td>\n",
       "      <td>0.311111</td>\n",
       "      <td>0.375000</td>\n",
       "      <td>0.672052</td>\n",
       "    </tr>\n",
       "    <tr>\n",
       "      <th>CatBoost</th>\n",
       "      <td>24.73</td>\n",
       "      <td>0.307517</td>\n",
       "      <td>0.307517</td>\n",
       "      <td>1.000000</td>\n",
       "      <td>0.470383</td>\n",
       "      <td>0.640765</td>\n",
       "    </tr>\n",
       "    <tr>\n",
       "      <th>knn</th>\n",
       "      <td>0.01</td>\n",
       "      <td>0.628702</td>\n",
       "      <td>0.365385</td>\n",
       "      <td>0.281481</td>\n",
       "      <td>0.317992</td>\n",
       "      <td>0.590521</td>\n",
       "    </tr>\n",
       "    <tr>\n",
       "      <th>decision_tree</th>\n",
       "      <td>0.01</td>\n",
       "      <td>0.619590</td>\n",
       "      <td>0.388889</td>\n",
       "      <td>0.414815</td>\n",
       "      <td>0.401434</td>\n",
       "      <td>0.562671</td>\n",
       "    </tr>\n",
       "  </tbody>\n",
       "</table>\n",
       "</div>"
      ],
      "text/plain": [
       "                     training_time [s]  accuracy  precision    recall  \\\n",
       "logistic_regression               0.01  0.735763   0.637681  0.325926   \n",
       "XGBoost                           0.12  0.687927   0.490000  0.362963   \n",
       "AdaBoost                          0.10  0.719818   0.566667  0.377778   \n",
       "random_forest                     0.25  0.681093   0.471910  0.311111   \n",
       "CatBoost                         24.73  0.307517   0.307517  1.000000   \n",
       "knn                               0.01  0.628702   0.365385  0.281481   \n",
       "decision_tree                     0.01  0.619590   0.388889  0.414815   \n",
       "\n",
       "                           f1       auc  \n",
       "logistic_regression  0.431373  0.701072  \n",
       "XGBoost              0.417021  0.678095  \n",
       "AdaBoost             0.453333  0.674488  \n",
       "random_forest        0.375000  0.672052  \n",
       "CatBoost             0.470383  0.640765  \n",
       "knn                  0.317992  0.590521  \n",
       "decision_tree        0.401434  0.562671  "
      ]
     },
     "execution_count": 18,
     "metadata": {},
     "output_type": "execute_result"
    }
   ],
   "source": [
    "df_scores1.sort_values(\"auc\", ascending=False)"
   ]
  },
  {
   "cell_type": "markdown",
   "metadata": {},
   "source": [
    "## Strategy 2: Upsample minority"
   ]
  },
  {
   "cell_type": "code",
   "execution_count": 19,
   "metadata": {},
   "outputs": [
    {
     "name": "stdout",
     "output_type": "stream",
     "text": [
      "Original dataset shape: Counter({0: 1215, 1: 537})\n"
     ]
    }
   ],
   "source": [
    "X = df.drop([\"wont_renew\", \"chapter_ID\"], axis=1).copy()\n",
    "y = df[\"wont_renew\"].copy()\n",
    "\n",
    "X_train, X_test, y_train, y_test = train_test_split(X, y, stratify=y, test_size=0.2, random_state=710)\n",
    "\n",
    "print(\"Original dataset shape: %s\" %Counter(y_train))"
   ]
  },
  {
   "cell_type": "code",
   "execution_count": 20,
   "metadata": {},
   "outputs": [
    {
     "name": "stdout",
     "output_type": "stream",
     "text": [
      "Downsampled dataset shape: Counter({0: 1215, 1: 1215})\n"
     ]
    }
   ],
   "source": [
    "over_sampler = SMOTE()\n",
    "X_resampled, y_resampled = over_sampler.fit_resample(X_train, y_train)\n",
    "print(\"Downsampled dataset shape: %s\" %Counter(y_resampled))"
   ]
  },
  {
   "cell_type": "code",
   "execution_count": 21,
   "metadata": {},
   "outputs": [],
   "source": [
    "scaler = StandardScaler()\n",
    "scaler.fit(X_resampled)\n",
    "X_resampled = pd.DataFrame(scaler.transform(X_resampled), columns=X.columns)\n",
    "X_test = pd.DataFrame(scaler.transform(X_test), columns=X.columns)"
   ]
  },
  {
   "cell_type": "code",
   "execution_count": 22,
   "metadata": {},
   "outputs": [
    {
     "name": "stdout",
     "output_type": "stream",
     "text": [
      "<class 'pandas.core.frame.DataFrame'>\n",
      "RangeIndex: 2430 entries, 0 to 2429\n",
      "Data columns (total 13 columns):\n",
      " #   Column  Non-Null Count  Dtype  \n",
      "---  ------  --------------  -----  \n",
      " 0   P       2430 non-null   float64\n",
      " 1   A       2430 non-null   float64\n",
      " 2   L       2430 non-null   float64\n",
      " 3   M       2430 non-null   float64\n",
      " 4   S       2430 non-null   float64\n",
      " 5   RGI     2430 non-null   float64\n",
      " 6   RGO     2430 non-null   float64\n",
      " 7   RRI     2430 non-null   float64\n",
      " 8   RRO     2430 non-null   float64\n",
      " 9   V       2430 non-null   float64\n",
      " 10  1-2-1   2430 non-null   float64\n",
      " 11  TYFCB   2430 non-null   float64\n",
      " 12  CEU     2430 non-null   float64\n",
      "dtypes: float64(13)\n",
      "memory usage: 246.9 KB\n"
     ]
    }
   ],
   "source": [
    "X_resampled.info()"
   ]
  },
  {
   "cell_type": "markdown",
   "metadata": {},
   "source": [
    "## Model"
   ]
  },
  {
   "cell_type": "code",
   "execution_count": 23,
   "metadata": {},
   "outputs": [],
   "source": [
    "df_scores2 = pd.DataFrame(columns=[\"training_time [s]\", \"accuracy\", \"precision\", \"recall\", \"f1\", \"auc\"])"
   ]
  },
  {
   "cell_type": "markdown",
   "metadata": {},
   "source": [
    "## 1. Logistic Regression"
   ]
  },
  {
   "cell_type": "code",
   "execution_count": 24,
   "metadata": {},
   "outputs": [
    {
     "name": "stdout",
     "output_type": "stream",
     "text": [
      "Elapsed time: 0.01 seconds\n"
     ]
    },
    {
     "data": {
      "text/html": [
       "<div>\n",
       "<style scoped>\n",
       "    .dataframe tbody tr th:only-of-type {\n",
       "        vertical-align: middle;\n",
       "    }\n",
       "\n",
       "    .dataframe tbody tr th {\n",
       "        vertical-align: top;\n",
       "    }\n",
       "\n",
       "    .dataframe thead th {\n",
       "        text-align: right;\n",
       "    }\n",
       "</style>\n",
       "<table border=\"1\" class=\"dataframe\">\n",
       "  <thead>\n",
       "    <tr style=\"text-align: right;\">\n",
       "      <th></th>\n",
       "      <th>training_time [s]</th>\n",
       "      <th>accuracy</th>\n",
       "      <th>precision</th>\n",
       "      <th>recall</th>\n",
       "      <th>f1</th>\n",
       "      <th>auc</th>\n",
       "    </tr>\n",
       "  </thead>\n",
       "  <tbody>\n",
       "    <tr>\n",
       "      <th>logistic_regression</th>\n",
       "      <td>0.01</td>\n",
       "      <td>0.633257</td>\n",
       "      <td>0.419753</td>\n",
       "      <td>0.503704</td>\n",
       "      <td>0.457912</td>\n",
       "      <td>0.656287</td>\n",
       "    </tr>\n",
       "  </tbody>\n",
       "</table>\n",
       "</div>"
      ],
      "text/plain": [
       "                     training_time [s]  accuracy  precision    recall  \\\n",
       "logistic_regression               0.01  0.633257   0.419753  0.503704   \n",
       "\n",
       "                           f1       auc  \n",
       "logistic_regression  0.457912  0.656287  "
      ]
     },
     "execution_count": 24,
     "metadata": {},
     "output_type": "execute_result"
    }
   ],
   "source": [
    "logreg = LogisticRegression(max_iter=2000)\n",
    "\n",
    "start = time.time()\n",
    "logreg.fit(X_resampled, y_resampled)\n",
    "end = time.time()\n",
    "print(f\"Elapsed time: {(end - start):.2f} seconds\")\n",
    "\n",
    "y_pred = logreg.predict(X_test)\n",
    "y_proba = logreg.predict_proba(X_test)\n",
    "\n",
    "df_scores2.loc[\"logistic_regression\"] = [round(end - start, 2),\n",
    "                                        accuracy_score(y_test, y_pred),\n",
    "                                        precision_score(y_test, y_pred),\n",
    "                                        recall_score(y_test, y_pred),\n",
    "                                        f1_score(y_test, y_pred),\n",
    "                                        roc_auc_score(y_test, y_proba[:,1])]\n",
    "df_scores2"
   ]
  },
  {
   "cell_type": "markdown",
   "metadata": {},
   "source": [
    "## 2. K-neighbors classifier"
   ]
  },
  {
   "cell_type": "code",
   "execution_count": 25,
   "metadata": {},
   "outputs": [
    {
     "name": "stdout",
     "output_type": "stream",
     "text": [
      "Elapsed time: 0 minutes 0.01 seconds\n"
     ]
    }
   ],
   "source": [
    "knn = KNeighborsClassifier()\n",
    "\n",
    "start = time.time()\n",
    "knn.fit(X_resampled, y_resampled)\n",
    "end = time.time()\n",
    "print(f\"Elapsed time: {(end - start) // 60:.0f} minutes {(end - start):.2f} seconds\")\n",
    "\n",
    "y_pred = knn.predict(X_test)\n",
    "y_proba = knn.predict_proba(X_test)\n",
    "\n",
    "df_scores2.loc[\"knn\"] = [round(end - start, 2),\n",
    "                                        accuracy_score(y_test, y_pred),\n",
    "                                        precision_score(y_test, y_pred),\n",
    "                                        recall_score(y_test, y_pred),\n",
    "                                        f1_score(y_test, y_pred),\n",
    "                                        roc_auc_score(y_test, y_proba[:,1])]"
   ]
  },
  {
   "cell_type": "markdown",
   "metadata": {},
   "source": [
    "## 3. Decision Tree"
   ]
  },
  {
   "cell_type": "code",
   "execution_count": 26,
   "metadata": {},
   "outputs": [
    {
     "name": "stdout",
     "output_type": "stream",
     "text": [
      "Elapsed time: 0 minutes 0.01 seconds\n"
     ]
    }
   ],
   "source": [
    "dt = DecisionTreeClassifier()\n",
    "\n",
    "start = time.time()\n",
    "dt.fit(X_resampled, y_resampled)\n",
    "end = time.time()\n",
    "print(f\"Elapsed time: {(end - start) // 60:.0f} minutes {(end - start):.2f} seconds\")\n",
    "\n",
    "y_pred = dt.predict(X_test)\n",
    "y_proba = dt.predict_proba(X_test)\n",
    "\n",
    "df_scores2.loc[\"decision_tree\"] = [round(end - start, 2),\n",
    "                                        accuracy_score(y_test, y_pred),\n",
    "                                        precision_score(y_test, y_pred),\n",
    "                                        recall_score(y_test, y_pred),\n",
    "                                        f1_score(y_test, y_pred),\n",
    "                                        roc_auc_score(y_test, y_proba[:,1])]"
   ]
  },
  {
   "cell_type": "markdown",
   "metadata": {},
   "source": [
    "## 4. Random Forest"
   ]
  },
  {
   "cell_type": "code",
   "execution_count": 27,
   "metadata": {},
   "outputs": [
    {
     "name": "stdout",
     "output_type": "stream",
     "text": [
      "Elapsed time: 0 minutes 0.33 seconds\n"
     ]
    }
   ],
   "source": [
    "rf = RandomForestClassifier()\n",
    "\n",
    "start = time.time()\n",
    "rf.fit(X_resampled, y_resampled)\n",
    "end = time.time()\n",
    "print(f\"Elapsed time: {(end - start) // 60:.0f} minutes {(end - start):.2f} seconds\")\n",
    "\n",
    "y_pred = rf.predict(X_test)\n",
    "y_proba = rf.predict_proba(X_test)\n",
    "\n",
    "df_scores2.loc[\"random_forest\"] = [round(end - start, 2),\n",
    "                                        accuracy_score(y_test, y_pred),\n",
    "                                        precision_score(y_test, y_pred),\n",
    "                                        recall_score(y_test, y_pred),\n",
    "                                        f1_score(y_test, y_pred),\n",
    "                                        roc_auc_score(y_test, y_proba[:,1])]"
   ]
  },
  {
   "cell_type": "markdown",
   "metadata": {},
   "source": [
    "## 5. AdaBoost"
   ]
  },
  {
   "cell_type": "code",
   "execution_count": 28,
   "metadata": {},
   "outputs": [
    {
     "name": "stdout",
     "output_type": "stream",
     "text": [
      "Elapsed time: 0 minutes 0.13 seconds\n"
     ]
    }
   ],
   "source": [
    "ada = AdaBoostClassifier()\n",
    "\n",
    "start = time.time()\n",
    "ada.fit(X_resampled, y_resampled)\n",
    "end = time.time()\n",
    "print(f\"Elapsed time: {(end - start) // 60:.0f} minutes {(end - start):.2f} seconds\")\n",
    "\n",
    "y_pred = ada.predict(X_test)\n",
    "y_proba = ada.predict_proba(X_test)\n",
    "\n",
    "df_scores2.loc[\"AdaBoost\"] = [round(end - start, 2),\n",
    "                                        accuracy_score(y_test, y_pred),\n",
    "                                        precision_score(y_test, y_pred),\n",
    "                                        recall_score(y_test, y_pred),\n",
    "                                        f1_score(y_test, y_pred),\n",
    "                                        roc_auc_score(y_test, y_proba[:,1])]"
   ]
  },
  {
   "cell_type": "markdown",
   "metadata": {},
   "source": [
    "## 6. XGBoost"
   ]
  },
  {
   "cell_type": "code",
   "execution_count": 29,
   "metadata": {},
   "outputs": [
    {
     "name": "stdout",
     "output_type": "stream",
     "text": [
      "Elapsed time: 0 minutes 0.13 seconds\n"
     ]
    }
   ],
   "source": [
    "xg = xgb.XGBClassifier(objective='binary:logistic', eval_metric=\"auc\", use_label_encoder=False)\n",
    "\n",
    "start = time.time()\n",
    "xg.fit(X_resampled, y_resampled)\n",
    "end = time.time()\n",
    "print(f\"Elapsed time: {(end - start) // 60:.0f} minutes {(end - start):.2f} seconds\")\n",
    "\n",
    "y_pred = xg.predict(X_test)\n",
    "y_proba = xg.predict_proba(X_test)\n",
    "\n",
    "df_scores2.loc[\"XGBoost\"] = [round(end - start, 2),\n",
    "                                        accuracy_score(y_test, y_pred),\n",
    "                                        precision_score(y_test, y_pred),\n",
    "                                        recall_score(y_test, y_pred),\n",
    "                                        f1_score(y_test, y_pred),\n",
    "                                        roc_auc_score(y_test, y_proba[:,1])]"
   ]
  },
  {
   "cell_type": "markdown",
   "metadata": {},
   "source": [
    "## 7. CatBoost"
   ]
  },
  {
   "cell_type": "code",
   "execution_count": 30,
   "metadata": {
    "scrolled": true
   },
   "outputs": [
    {
     "name": "stdout",
     "output_type": "stream",
     "text": [
      "Learning rate set to 0.015052\n",
      "0:\tlearn: 0.6894730\ttotal: 20.8ms\tremaining: 20.8s\n",
      "100:\tlearn: 0.5538733\ttotal: 2.54s\tremaining: 22.6s\n",
      "200:\tlearn: 0.5087741\ttotal: 5.08s\tremaining: 20.2s\n",
      "300:\tlearn: 0.4799763\ttotal: 7.71s\tremaining: 17.9s\n",
      "400:\tlearn: 0.4555726\ttotal: 10.3s\tremaining: 15.3s\n",
      "500:\tlearn: 0.4309249\ttotal: 12.8s\tremaining: 12.7s\n",
      "600:\tlearn: 0.4064944\ttotal: 15.3s\tremaining: 10.2s\n",
      "700:\tlearn: 0.3802734\ttotal: 17.8s\tremaining: 7.6s\n",
      "800:\tlearn: 0.3568392\ttotal: 20.7s\tremaining: 5.14s\n",
      "900:\tlearn: 0.3347268\ttotal: 23.6s\tremaining: 2.59s\n",
      "999:\tlearn: 0.3143610\ttotal: 26.1s\tremaining: 0us\n",
      "Elapsed time: 0 minutes 26.24 seconds\n"
     ]
    }
   ],
   "source": [
    "X = df.drop([\"wont_renew\"], axis=1).copy()\n",
    "y = df[\"wont_renew\"].copy()\n",
    "\n",
    "X_train, X_test, y_train, y_test = train_test_split(X, y, stratify=y, test_size=0.2, random_state=710)\n",
    "\n",
    "over_sampler = SMOTE()\n",
    "X_resampled, y_resampled = over_sampler.fit_resample(X_train, y_train)\n",
    "\n",
    "scaler = StandardScaler()\n",
    "scaler.fit(X_resampled)\n",
    "\n",
    "X_train = pd.DataFrame(scaler.transform(X_resampled), columns=X.columns)\n",
    "X_test = pd.DataFrame(scaler.transform(X_test), columns=X.columns)\n",
    "\n",
    "X_train[\"chapter_ID\"] = X_train[\"chapter_ID\"].astype(\"str\")\n",
    "X_test[\"chapter_ID\"] = X_test[\"chapter_ID\"].astype(\"str\")\n",
    "\n",
    "cb = CatBoostClassifier()\n",
    "\n",
    "start = time.time()\n",
    "cb.fit(X_resampled, y_resampled, verbose=100, cat_features=[\"chapter_ID\"])\n",
    "end = time.time()\n",
    "print(f\"Elapsed time: {(end - start) // 60:.0f} minutes {(end - start):.2f} seconds\")\n",
    "\n",
    "y_pred = cb.predict(X_test)\n",
    "y_proba = cb.predict_proba(X_test)\n",
    "\n",
    "df_scores2.loc[\"CatBoost\"] = [round(end - start, 2),\n",
    "                                        accuracy_score(y_test, y_pred),\n",
    "                                        precision_score(y_test, y_pred),\n",
    "                                        recall_score(y_test, y_pred),\n",
    "                                        f1_score(y_test, y_pred),\n",
    "                                        roc_auc_score(y_test, y_proba[:,1])]"
   ]
  },
  {
   "cell_type": "markdown",
   "metadata": {},
   "source": [
    "## Compare results"
   ]
  },
  {
   "cell_type": "code",
   "execution_count": 31,
   "metadata": {},
   "outputs": [
    {
     "data": {
      "text/html": [
       "<div>\n",
       "<style scoped>\n",
       "    .dataframe tbody tr th:only-of-type {\n",
       "        vertical-align: middle;\n",
       "    }\n",
       "\n",
       "    .dataframe tbody tr th {\n",
       "        vertical-align: top;\n",
       "    }\n",
       "\n",
       "    .dataframe thead th {\n",
       "        text-align: right;\n",
       "    }\n",
       "</style>\n",
       "<table border=\"1\" class=\"dataframe\">\n",
       "  <thead>\n",
       "    <tr style=\"text-align: right;\">\n",
       "      <th></th>\n",
       "      <th>training_time [s]</th>\n",
       "      <th>accuracy</th>\n",
       "      <th>precision</th>\n",
       "      <th>recall</th>\n",
       "      <th>f1</th>\n",
       "      <th>auc</th>\n",
       "    </tr>\n",
       "  </thead>\n",
       "  <tbody>\n",
       "    <tr>\n",
       "      <th>AdaBoost</th>\n",
       "      <td>0.13</td>\n",
       "      <td>0.658314</td>\n",
       "      <td>0.455621</td>\n",
       "      <td>0.570370</td>\n",
       "      <td>0.506579</td>\n",
       "      <td>0.683991</td>\n",
       "    </tr>\n",
       "    <tr>\n",
       "      <th>logistic_regression</th>\n",
       "      <td>0.01</td>\n",
       "      <td>0.633257</td>\n",
       "      <td>0.419753</td>\n",
       "      <td>0.503704</td>\n",
       "      <td>0.457912</td>\n",
       "      <td>0.656287</td>\n",
       "    </tr>\n",
       "    <tr>\n",
       "      <th>random_forest</th>\n",
       "      <td>0.33</td>\n",
       "      <td>0.671982</td>\n",
       "      <td>0.465116</td>\n",
       "      <td>0.444444</td>\n",
       "      <td>0.454545</td>\n",
       "      <td>0.655897</td>\n",
       "    </tr>\n",
       "    <tr>\n",
       "      <th>XGBoost</th>\n",
       "      <td>0.13</td>\n",
       "      <td>0.633257</td>\n",
       "      <td>0.410959</td>\n",
       "      <td>0.444444</td>\n",
       "      <td>0.427046</td>\n",
       "      <td>0.645541</td>\n",
       "    </tr>\n",
       "    <tr>\n",
       "      <th>knn</th>\n",
       "      <td>0.01</td>\n",
       "      <td>0.587699</td>\n",
       "      <td>0.382653</td>\n",
       "      <td>0.555556</td>\n",
       "      <td>0.453172</td>\n",
       "      <td>0.594981</td>\n",
       "    </tr>\n",
       "    <tr>\n",
       "      <th>decision_tree</th>\n",
       "      <td>0.01</td>\n",
       "      <td>0.615034</td>\n",
       "      <td>0.400000</td>\n",
       "      <td>0.503704</td>\n",
       "      <td>0.445902</td>\n",
       "      <td>0.584089</td>\n",
       "    </tr>\n",
       "    <tr>\n",
       "      <th>CatBoost</th>\n",
       "      <td>26.24</td>\n",
       "      <td>0.307517</td>\n",
       "      <td>0.307517</td>\n",
       "      <td>1.000000</td>\n",
       "      <td>0.470383</td>\n",
       "      <td>0.498769</td>\n",
       "    </tr>\n",
       "  </tbody>\n",
       "</table>\n",
       "</div>"
      ],
      "text/plain": [
       "                     training_time [s]  accuracy  precision    recall  \\\n",
       "AdaBoost                          0.13  0.658314   0.455621  0.570370   \n",
       "logistic_regression               0.01  0.633257   0.419753  0.503704   \n",
       "random_forest                     0.33  0.671982   0.465116  0.444444   \n",
       "XGBoost                           0.13  0.633257   0.410959  0.444444   \n",
       "knn                               0.01  0.587699   0.382653  0.555556   \n",
       "decision_tree                     0.01  0.615034   0.400000  0.503704   \n",
       "CatBoost                         26.24  0.307517   0.307517  1.000000   \n",
       "\n",
       "                           f1       auc  \n",
       "AdaBoost             0.506579  0.683991  \n",
       "logistic_regression  0.457912  0.656287  \n",
       "random_forest        0.454545  0.655897  \n",
       "XGBoost              0.427046  0.645541  \n",
       "knn                  0.453172  0.594981  \n",
       "decision_tree        0.445902  0.584089  \n",
       "CatBoost             0.470383  0.498769  "
      ]
     },
     "execution_count": 31,
     "metadata": {},
     "output_type": "execute_result"
    }
   ],
   "source": [
    "df_scores2.sort_values(\"auc\", ascending=False)"
   ]
  },
  {
   "cell_type": "markdown",
   "metadata": {},
   "source": [
    "## Strategy 3. Balance"
   ]
  },
  {
   "cell_type": "code",
   "execution_count": 32,
   "metadata": {},
   "outputs": [
    {
     "name": "stdout",
     "output_type": "stream",
     "text": [
      "Original dataset shape: Counter({0: 1215, 1: 537})\n"
     ]
    }
   ],
   "source": [
    "X = df.drop([\"wont_renew\", \"chapter_ID\"], axis=1).copy()\n",
    "y = df[\"wont_renew\"].copy()\n",
    "\n",
    "X_train, X_test, y_train, y_test = train_test_split(X, y, stratify=y, test_size=0.2, random_state=710)\n",
    "\n",
    "print(\"Original dataset shape: %s\" %Counter(y_train))"
   ]
  },
  {
   "cell_type": "code",
   "execution_count": 33,
   "metadata": {},
   "outputs": [
    {
     "name": "stdout",
     "output_type": "stream",
     "text": [
      "Downsampled dataset shape: Counter({0: 1215, 1: 850})\n"
     ]
    }
   ],
   "source": [
    "over_sampler = SMOTE(sampling_strategy=0.7)\n",
    "X_resampled, y_resampled = over_sampler.fit_resample(X_train, y_train)\n",
    "print(\"Downsampled dataset shape: %s\" %Counter(y_resampled))"
   ]
  },
  {
   "cell_type": "code",
   "execution_count": 34,
   "metadata": {},
   "outputs": [
    {
     "name": "stdout",
     "output_type": "stream",
     "text": [
      "Downsampled dataset shape: Counter({0: 1042, 1: 850})\n"
     ]
    }
   ],
   "source": [
    "under_sampler = TomekLinks()\n",
    "X_resampled, y_resampled = under_sampler.fit_resample(X_resampled, y_resampled)\n",
    "print(\"Downsampled dataset shape: %s\" %Counter(y_resampled))"
   ]
  },
  {
   "cell_type": "code",
   "execution_count": 35,
   "metadata": {},
   "outputs": [],
   "source": [
    "scaler = StandardScaler()\n",
    "scaler.fit(X_resampled)\n",
    "X_resampled = pd.DataFrame(scaler.transform(X_resampled), columns=X.columns)\n",
    "X_test = pd.DataFrame(scaler.transform(X_test), columns=X.columns)"
   ]
  },
  {
   "cell_type": "markdown",
   "metadata": {},
   "source": [
    "## Model"
   ]
  },
  {
   "cell_type": "code",
   "execution_count": 36,
   "metadata": {},
   "outputs": [],
   "source": [
    "df_scores3 = pd.DataFrame(columns=[\"training_time [s]\", \"accuracy\", \"precision\", \"recall\", \"f1\", \"auc\"])"
   ]
  },
  {
   "cell_type": "markdown",
   "metadata": {},
   "source": [
    "## 1. Logistic Regression"
   ]
  },
  {
   "cell_type": "code",
   "execution_count": 37,
   "metadata": {},
   "outputs": [
    {
     "name": "stdout",
     "output_type": "stream",
     "text": [
      "Elapsed time: 0.00 seconds\n"
     ]
    },
    {
     "data": {
      "text/html": [
       "<div>\n",
       "<style scoped>\n",
       "    .dataframe tbody tr th:only-of-type {\n",
       "        vertical-align: middle;\n",
       "    }\n",
       "\n",
       "    .dataframe tbody tr th {\n",
       "        vertical-align: top;\n",
       "    }\n",
       "\n",
       "    .dataframe thead th {\n",
       "        text-align: right;\n",
       "    }\n",
       "</style>\n",
       "<table border=\"1\" class=\"dataframe\">\n",
       "  <thead>\n",
       "    <tr style=\"text-align: right;\">\n",
       "      <th></th>\n",
       "      <th>training_time [s]</th>\n",
       "      <th>accuracy</th>\n",
       "      <th>precision</th>\n",
       "      <th>recall</th>\n",
       "      <th>f1</th>\n",
       "      <th>auc</th>\n",
       "    </tr>\n",
       "  </thead>\n",
       "  <tbody>\n",
       "    <tr>\n",
       "      <th>logistic_regression</th>\n",
       "      <td>0.0</td>\n",
       "      <td>0.676538</td>\n",
       "      <td>0.47482</td>\n",
       "      <td>0.488889</td>\n",
       "      <td>0.481752</td>\n",
       "      <td>0.674732</td>\n",
       "    </tr>\n",
       "  </tbody>\n",
       "</table>\n",
       "</div>"
      ],
      "text/plain": [
       "                     training_time [s]  accuracy  precision    recall  \\\n",
       "logistic_regression                0.0  0.676538    0.47482  0.488889   \n",
       "\n",
       "                           f1       auc  \n",
       "logistic_regression  0.481752  0.674732  "
      ]
     },
     "execution_count": 37,
     "metadata": {},
     "output_type": "execute_result"
    }
   ],
   "source": [
    "logreg = LogisticRegression(max_iter=2000)\n",
    "\n",
    "start = time.time()\n",
    "logreg.fit(X_resampled, y_resampled)\n",
    "end = time.time()\n",
    "print(f\"Elapsed time: {(end - start):.2f} seconds\")\n",
    "\n",
    "y_pred = logreg.predict(X_test)\n",
    "y_proba = logreg.predict_proba(X_test)\n",
    "\n",
    "df_scores3.loc[\"logistic_regression\"] = [round(end - start, 2),\n",
    "                                        accuracy_score(y_test, y_pred),\n",
    "                                        precision_score(y_test, y_pred),\n",
    "                                        recall_score(y_test, y_pred),\n",
    "                                        f1_score(y_test, y_pred),\n",
    "                                        roc_auc_score(y_test, y_proba[:,1])]\n",
    "df_scores3"
   ]
  },
  {
   "cell_type": "markdown",
   "metadata": {},
   "source": [
    "## 2. K-nearest neighbors"
   ]
  },
  {
   "cell_type": "code",
   "execution_count": 38,
   "metadata": {},
   "outputs": [
    {
     "name": "stdout",
     "output_type": "stream",
     "text": [
      "Elapsed time: 0 minutes 0.00 seconds\n"
     ]
    }
   ],
   "source": [
    "knn = KNeighborsClassifier()\n",
    "\n",
    "start = time.time()\n",
    "knn.fit(X_resampled, y_resampled)\n",
    "end = time.time()\n",
    "print(f\"Elapsed time: {(end - start) // 60:.0f} minutes {(end - start):.2f} seconds\")\n",
    "\n",
    "y_pred = knn.predict(X_test)\n",
    "y_proba = knn.predict_proba(X_test)\n",
    "\n",
    "df_scores3.loc[\"knn\"] = [round(end - start, 2),\n",
    "                                        accuracy_score(y_test, y_pred),\n",
    "                                        precision_score(y_test, y_pred),\n",
    "                                        recall_score(y_test, y_pred),\n",
    "                                        f1_score(y_test, y_pred),\n",
    "                                        roc_auc_score(y_test, y_proba[:,1])]"
   ]
  },
  {
   "cell_type": "markdown",
   "metadata": {},
   "source": [
    "## 3. Decision Tree"
   ]
  },
  {
   "cell_type": "code",
   "execution_count": 39,
   "metadata": {},
   "outputs": [
    {
     "name": "stdout",
     "output_type": "stream",
     "text": [
      "Elapsed time: 0 minutes 0.01 seconds\n"
     ]
    }
   ],
   "source": [
    "dt = DecisionTreeClassifier()\n",
    "\n",
    "start = time.time()\n",
    "dt.fit(X_resampled, y_resampled)\n",
    "end = time.time()\n",
    "print(f\"Elapsed time: {(end - start) // 60:.0f} minutes {(end - start):.2f} seconds\")\n",
    "\n",
    "y_pred = dt.predict(X_test)\n",
    "y_proba = dt.predict_proba(X_test)\n",
    "\n",
    "df_scores3.loc[\"decision_tree\"] = [round(end - start, 2),\n",
    "                                        accuracy_score(y_test, y_pred),\n",
    "                                        precision_score(y_test, y_pred),\n",
    "                                        recall_score(y_test, y_pred),\n",
    "                                        f1_score(y_test, y_pred),\n",
    "                                        roc_auc_score(y_test, y_proba[:,1])]"
   ]
  },
  {
   "cell_type": "markdown",
   "metadata": {},
   "source": [
    "## 4. Random Forest"
   ]
  },
  {
   "cell_type": "code",
   "execution_count": 40,
   "metadata": {},
   "outputs": [
    {
     "name": "stdout",
     "output_type": "stream",
     "text": [
      "Elapsed time: 0 minutes 0.29 seconds\n"
     ]
    }
   ],
   "source": [
    "rf = RandomForestClassifier()\n",
    "\n",
    "start = time.time()\n",
    "rf.fit(X_resampled, y_resampled)\n",
    "end = time.time()\n",
    "print(f\"Elapsed time: {(end - start) // 60:.0f} minutes {(end - start):.2f} seconds\")\n",
    "\n",
    "y_pred = rf.predict(X_test)\n",
    "y_proba = rf.predict_proba(X_test)\n",
    "\n",
    "df_scores3.loc[\"random_forest\"] = [round(end - start, 2),\n",
    "                                        accuracy_score(y_test, y_pred),\n",
    "                                        precision_score(y_test, y_pred),\n",
    "                                        recall_score(y_test, y_pred),\n",
    "                                        f1_score(y_test, y_pred),\n",
    "                                        roc_auc_score(y_test, y_proba[:,1])]"
   ]
  },
  {
   "cell_type": "markdown",
   "metadata": {},
   "source": [
    "## 5. AdaBoost"
   ]
  },
  {
   "cell_type": "code",
   "execution_count": 41,
   "metadata": {},
   "outputs": [
    {
     "name": "stdout",
     "output_type": "stream",
     "text": [
      "Elapsed time: 0 minutes 0.11 seconds\n"
     ]
    }
   ],
   "source": [
    "ada = AdaBoostClassifier()\n",
    "\n",
    "start = time.time()\n",
    "ada.fit(X_resampled, y_resampled)\n",
    "end = time.time()\n",
    "print(f\"Elapsed time: {(end - start) // 60:.0f} minutes {(end - start):.2f} seconds\")\n",
    "\n",
    "y_pred = ada.predict(X_test)\n",
    "y_proba = ada.predict_proba(X_test)\n",
    "\n",
    "df_scores3.loc[\"AdaBoost\"] = [round(end - start, 2),\n",
    "                                        accuracy_score(y_test, y_pred),\n",
    "                                        precision_score(y_test, y_pred),\n",
    "                                        recall_score(y_test, y_pred),\n",
    "                                        f1_score(y_test, y_pred),\n",
    "                                        roc_auc_score(y_test, y_proba[:,1])]"
   ]
  },
  {
   "cell_type": "markdown",
   "metadata": {},
   "source": [
    "## 6. XGBoost"
   ]
  },
  {
   "cell_type": "code",
   "execution_count": 42,
   "metadata": {},
   "outputs": [
    {
     "name": "stdout",
     "output_type": "stream",
     "text": [
      "Elapsed time: 0 minutes 0.11 seconds\n"
     ]
    }
   ],
   "source": [
    "xg = xgb.XGBClassifier(objective='binary:logistic', eval_metric=\"auc\", use_label_encoder=False)\n",
    "\n",
    "start = time.time()\n",
    "xg.fit(X_resampled, y_resampled)\n",
    "end = time.time()\n",
    "print(f\"Elapsed time: {(end - start) // 60:.0f} minutes {(end - start):.2f} seconds\")\n",
    "\n",
    "y_pred = xg.predict(X_test)\n",
    "y_proba = xg.predict_proba(X_test)\n",
    "\n",
    "df_scores3.loc[\"XGBoost\"] = [round(end - start, 2),\n",
    "                                        accuracy_score(y_test, y_pred),\n",
    "                                        precision_score(y_test, y_pred),\n",
    "                                        recall_score(y_test, y_pred),\n",
    "                                        f1_score(y_test, y_pred),\n",
    "                                        roc_auc_score(y_test, y_proba[:,1])]"
   ]
  },
  {
   "cell_type": "markdown",
   "metadata": {},
   "source": [
    "## 7. CatBoost"
   ]
  },
  {
   "cell_type": "code",
   "execution_count": 43,
   "metadata": {},
   "outputs": [
    {
     "name": "stdout",
     "output_type": "stream",
     "text": [
      "Downsampled dataset shape: Counter({0: 1215, 1: 850})\n",
      "Downsampled dataset shape: Counter({0: 1043, 1: 850})\n",
      "Learning rate set to 0.013529\n",
      "0:\tlearn: 0.6908821\ttotal: 19ms\tremaining: 19s\n",
      "100:\tlearn: 0.5716746\ttotal: 2.38s\tremaining: 21.1s\n",
      "200:\tlearn: 0.5305292\ttotal: 4.77s\tremaining: 19s\n",
      "300:\tlearn: 0.5022435\ttotal: 7.16s\tremaining: 16.6s\n",
      "400:\tlearn: 0.4780240\ttotal: 9.56s\tremaining: 14.3s\n",
      "500:\tlearn: 0.4570288\ttotal: 12s\tremaining: 11.9s\n",
      "600:\tlearn: 0.4312840\ttotal: 14.3s\tremaining: 9.52s\n",
      "700:\tlearn: 0.4058136\ttotal: 17.1s\tremaining: 7.3s\n",
      "800:\tlearn: 0.3790067\ttotal: 19.6s\tremaining: 4.87s\n",
      "900:\tlearn: 0.3547373\ttotal: 22.1s\tremaining: 2.43s\n",
      "999:\tlearn: 0.3342324\ttotal: 24.6s\tremaining: 0us\n",
      "Elapsed time: 0 minutes 24.75 seconds\n"
     ]
    }
   ],
   "source": [
    "X = df.drop([\"wont_renew\"], axis=1).copy()\n",
    "y = df[\"wont_renew\"].copy()\n",
    "\n",
    "X_train, X_test, y_train, y_test = train_test_split(X, y, stratify=y, test_size=0.2, random_state=710)\n",
    "\n",
    "over_sampler = SMOTE(sampling_strategy=0.7)\n",
    "X_resampled, y_resampled = over_sampler.fit_resample(X_train, y_train)\n",
    "print(\"Downsampled dataset shape: %s\" %Counter(y_resampled))\n",
    "\n",
    "under_sampler = TomekLinks()\n",
    "X_resampled, y_resampled = under_sampler.fit_resample(X_resampled, y_resampled)\n",
    "print(\"Downsampled dataset shape: %s\" %Counter(y_resampled))\n",
    "\n",
    "scaler = StandardScaler()\n",
    "scaler.fit(X_resampled)\n",
    "\n",
    "X_train = pd.DataFrame(scaler.transform(X_resampled), columns=X.columns)\n",
    "X_test = pd.DataFrame(scaler.transform(X_test), columns=X.columns)\n",
    "\n",
    "X_train[\"chapter_ID\"] = X_train[\"chapter_ID\"].astype(\"str\")\n",
    "X_test[\"chapter_ID\"] = X_test[\"chapter_ID\"].astype(\"str\")\n",
    "\n",
    "cb = CatBoostClassifier()\n",
    "\n",
    "start = time.time()\n",
    "cb.fit(X_resampled, y_resampled, verbose=100, cat_features=[\"chapter_ID\"])\n",
    "end = time.time()\n",
    "print(f\"Elapsed time: {(end - start) // 60:.0f} minutes {(end - start):.2f} seconds\")\n",
    "\n",
    "y_pred = cb.predict(X_test)\n",
    "y_proba = cb.predict_proba(X_test)\n",
    "\n",
    "df_scores3.loc[\"CatBoost\"] = [round(end - start, 2),\n",
    "                                        accuracy_score(y_test, y_pred),\n",
    "                                        precision_score(y_test, y_pred),\n",
    "                                        recall_score(y_test, y_pred),\n",
    "                                        f1_score(y_test, y_pred),\n",
    "                                        roc_auc_score(y_test, y_proba[:,1])]"
   ]
  },
  {
   "cell_type": "markdown",
   "metadata": {},
   "source": [
    "# Compare results"
   ]
  },
  {
   "cell_type": "code",
   "execution_count": 44,
   "metadata": {},
   "outputs": [
    {
     "data": {
      "text/html": [
       "<div>\n",
       "<style scoped>\n",
       "    .dataframe tbody tr th:only-of-type {\n",
       "        vertical-align: middle;\n",
       "    }\n",
       "\n",
       "    .dataframe tbody tr th {\n",
       "        vertical-align: top;\n",
       "    }\n",
       "\n",
       "    .dataframe thead th {\n",
       "        text-align: right;\n",
       "    }\n",
       "</style>\n",
       "<table border=\"1\" class=\"dataframe\">\n",
       "  <thead>\n",
       "    <tr style=\"text-align: right;\">\n",
       "      <th></th>\n",
       "      <th>training_time [s]</th>\n",
       "      <th>accuracy</th>\n",
       "      <th>precision</th>\n",
       "      <th>recall</th>\n",
       "      <th>f1</th>\n",
       "      <th>auc</th>\n",
       "    </tr>\n",
       "  </thead>\n",
       "  <tbody>\n",
       "    <tr>\n",
       "      <th>random_forest</th>\n",
       "      <td>0.29</td>\n",
       "      <td>0.674260</td>\n",
       "      <td>0.466667</td>\n",
       "      <td>0.414815</td>\n",
       "      <td>0.439216</td>\n",
       "      <td>0.678448</td>\n",
       "    </tr>\n",
       "    <tr>\n",
       "      <th>logistic_regression</th>\n",
       "      <td>0.00</td>\n",
       "      <td>0.676538</td>\n",
       "      <td>0.474820</td>\n",
       "      <td>0.488889</td>\n",
       "      <td>0.481752</td>\n",
       "      <td>0.674732</td>\n",
       "    </tr>\n",
       "    <tr>\n",
       "      <th>AdaBoost</th>\n",
       "      <td>0.11</td>\n",
       "      <td>0.681093</td>\n",
       "      <td>0.482270</td>\n",
       "      <td>0.503704</td>\n",
       "      <td>0.492754</td>\n",
       "      <td>0.666740</td>\n",
       "    </tr>\n",
       "    <tr>\n",
       "      <th>XGBoost</th>\n",
       "      <td>0.11</td>\n",
       "      <td>0.674260</td>\n",
       "      <td>0.469231</td>\n",
       "      <td>0.451852</td>\n",
       "      <td>0.460377</td>\n",
       "      <td>0.648124</td>\n",
       "    </tr>\n",
       "    <tr>\n",
       "      <th>CatBoost</th>\n",
       "      <td>24.75</td>\n",
       "      <td>0.307517</td>\n",
       "      <td>0.307517</td>\n",
       "      <td>1.000000</td>\n",
       "      <td>0.470383</td>\n",
       "      <td>0.595492</td>\n",
       "    </tr>\n",
       "    <tr>\n",
       "      <th>knn</th>\n",
       "      <td>0.00</td>\n",
       "      <td>0.585421</td>\n",
       "      <td>0.342282</td>\n",
       "      <td>0.377778</td>\n",
       "      <td>0.359155</td>\n",
       "      <td>0.574013</td>\n",
       "    </tr>\n",
       "    <tr>\n",
       "      <th>decision_tree</th>\n",
       "      <td>0.01</td>\n",
       "      <td>0.585421</td>\n",
       "      <td>0.362573</td>\n",
       "      <td>0.459259</td>\n",
       "      <td>0.405229</td>\n",
       "      <td>0.550353</td>\n",
       "    </tr>\n",
       "  </tbody>\n",
       "</table>\n",
       "</div>"
      ],
      "text/plain": [
       "                     training_time [s]  accuracy  precision    recall  \\\n",
       "random_forest                     0.29  0.674260   0.466667  0.414815   \n",
       "logistic_regression               0.00  0.676538   0.474820  0.488889   \n",
       "AdaBoost                          0.11  0.681093   0.482270  0.503704   \n",
       "XGBoost                           0.11  0.674260   0.469231  0.451852   \n",
       "CatBoost                         24.75  0.307517   0.307517  1.000000   \n",
       "knn                               0.00  0.585421   0.342282  0.377778   \n",
       "decision_tree                     0.01  0.585421   0.362573  0.459259   \n",
       "\n",
       "                           f1       auc  \n",
       "random_forest        0.439216  0.678448  \n",
       "logistic_regression  0.481752  0.674732  \n",
       "AdaBoost             0.492754  0.666740  \n",
       "XGBoost              0.460377  0.648124  \n",
       "CatBoost             0.470383  0.595492  \n",
       "knn                  0.359155  0.574013  \n",
       "decision_tree        0.405229  0.550353  "
      ]
     },
     "execution_count": 44,
     "metadata": {},
     "output_type": "execute_result"
    }
   ],
   "source": [
    "df_scores3.sort_values(\"auc\", ascending=False)"
   ]
  },
  {
   "cell_type": "code",
   "execution_count": 45,
   "metadata": {},
   "outputs": [
    {
     "data": {
      "text/html": [
       "<div>\n",
       "<style scoped>\n",
       "    .dataframe tbody tr th:only-of-type {\n",
       "        vertical-align: middle;\n",
       "    }\n",
       "\n",
       "    .dataframe tbody tr th {\n",
       "        vertical-align: top;\n",
       "    }\n",
       "\n",
       "    .dataframe thead th {\n",
       "        text-align: right;\n",
       "    }\n",
       "</style>\n",
       "<table border=\"1\" class=\"dataframe\">\n",
       "  <thead>\n",
       "    <tr style=\"text-align: right;\">\n",
       "      <th></th>\n",
       "      <th>training_time [s]</th>\n",
       "      <th>accuracy</th>\n",
       "      <th>precision</th>\n",
       "      <th>recall</th>\n",
       "      <th>f1</th>\n",
       "      <th>auc</th>\n",
       "    </tr>\n",
       "  </thead>\n",
       "  <tbody>\n",
       "    <tr>\n",
       "      <th>strat1_logistic_regression</th>\n",
       "      <td>0.01</td>\n",
       "      <td>0.735763</td>\n",
       "      <td>0.637681</td>\n",
       "      <td>0.325926</td>\n",
       "      <td>0.431373</td>\n",
       "      <td>0.701072</td>\n",
       "    </tr>\n",
       "    <tr>\n",
       "      <th>strat2_AdaBoost</th>\n",
       "      <td>0.13</td>\n",
       "      <td>0.658314</td>\n",
       "      <td>0.455621</td>\n",
       "      <td>0.570370</td>\n",
       "      <td>0.506579</td>\n",
       "      <td>0.683991</td>\n",
       "    </tr>\n",
       "    <tr>\n",
       "      <th>strat3_random_forest</th>\n",
       "      <td>0.29</td>\n",
       "      <td>0.674260</td>\n",
       "      <td>0.466667</td>\n",
       "      <td>0.414815</td>\n",
       "      <td>0.439216</td>\n",
       "      <td>0.678448</td>\n",
       "    </tr>\n",
       "    <tr>\n",
       "      <th>strat1_XGBoost</th>\n",
       "      <td>0.12</td>\n",
       "      <td>0.687927</td>\n",
       "      <td>0.490000</td>\n",
       "      <td>0.362963</td>\n",
       "      <td>0.417021</td>\n",
       "      <td>0.678095</td>\n",
       "    </tr>\n",
       "    <tr>\n",
       "      <th>strat3_logistic_regression</th>\n",
       "      <td>0.00</td>\n",
       "      <td>0.676538</td>\n",
       "      <td>0.474820</td>\n",
       "      <td>0.488889</td>\n",
       "      <td>0.481752</td>\n",
       "      <td>0.674732</td>\n",
       "    </tr>\n",
       "    <tr>\n",
       "      <th>strat1_AdaBoost</th>\n",
       "      <td>0.10</td>\n",
       "      <td>0.719818</td>\n",
       "      <td>0.566667</td>\n",
       "      <td>0.377778</td>\n",
       "      <td>0.453333</td>\n",
       "      <td>0.674488</td>\n",
       "    </tr>\n",
       "    <tr>\n",
       "      <th>strat1_random_forest</th>\n",
       "      <td>0.25</td>\n",
       "      <td>0.681093</td>\n",
       "      <td>0.471910</td>\n",
       "      <td>0.311111</td>\n",
       "      <td>0.375000</td>\n",
       "      <td>0.672052</td>\n",
       "    </tr>\n",
       "    <tr>\n",
       "      <th>strat3_AdaBoost</th>\n",
       "      <td>0.11</td>\n",
       "      <td>0.681093</td>\n",
       "      <td>0.482270</td>\n",
       "      <td>0.503704</td>\n",
       "      <td>0.492754</td>\n",
       "      <td>0.666740</td>\n",
       "    </tr>\n",
       "    <tr>\n",
       "      <th>strat2_logistic_regression</th>\n",
       "      <td>0.01</td>\n",
       "      <td>0.633257</td>\n",
       "      <td>0.419753</td>\n",
       "      <td>0.503704</td>\n",
       "      <td>0.457912</td>\n",
       "      <td>0.656287</td>\n",
       "    </tr>\n",
       "    <tr>\n",
       "      <th>strat2_random_forest</th>\n",
       "      <td>0.33</td>\n",
       "      <td>0.671982</td>\n",
       "      <td>0.465116</td>\n",
       "      <td>0.444444</td>\n",
       "      <td>0.454545</td>\n",
       "      <td>0.655897</td>\n",
       "    </tr>\n",
       "    <tr>\n",
       "      <th>strat3_XGBoost</th>\n",
       "      <td>0.11</td>\n",
       "      <td>0.674260</td>\n",
       "      <td>0.469231</td>\n",
       "      <td>0.451852</td>\n",
       "      <td>0.460377</td>\n",
       "      <td>0.648124</td>\n",
       "    </tr>\n",
       "    <tr>\n",
       "      <th>strat2_XGBoost</th>\n",
       "      <td>0.13</td>\n",
       "      <td>0.633257</td>\n",
       "      <td>0.410959</td>\n",
       "      <td>0.444444</td>\n",
       "      <td>0.427046</td>\n",
       "      <td>0.645541</td>\n",
       "    </tr>\n",
       "    <tr>\n",
       "      <th>strat1_CatBoost</th>\n",
       "      <td>24.73</td>\n",
       "      <td>0.307517</td>\n",
       "      <td>0.307517</td>\n",
       "      <td>1.000000</td>\n",
       "      <td>0.470383</td>\n",
       "      <td>0.640765</td>\n",
       "    </tr>\n",
       "    <tr>\n",
       "      <th>strat3_CatBoost</th>\n",
       "      <td>24.75</td>\n",
       "      <td>0.307517</td>\n",
       "      <td>0.307517</td>\n",
       "      <td>1.000000</td>\n",
       "      <td>0.470383</td>\n",
       "      <td>0.595492</td>\n",
       "    </tr>\n",
       "    <tr>\n",
       "      <th>strat2_knn</th>\n",
       "      <td>0.01</td>\n",
       "      <td>0.587699</td>\n",
       "      <td>0.382653</td>\n",
       "      <td>0.555556</td>\n",
       "      <td>0.453172</td>\n",
       "      <td>0.594981</td>\n",
       "    </tr>\n",
       "    <tr>\n",
       "      <th>strat1_knn</th>\n",
       "      <td>0.01</td>\n",
       "      <td>0.628702</td>\n",
       "      <td>0.365385</td>\n",
       "      <td>0.281481</td>\n",
       "      <td>0.317992</td>\n",
       "      <td>0.590521</td>\n",
       "    </tr>\n",
       "    <tr>\n",
       "      <th>strat2_decision_tree</th>\n",
       "      <td>0.01</td>\n",
       "      <td>0.615034</td>\n",
       "      <td>0.400000</td>\n",
       "      <td>0.503704</td>\n",
       "      <td>0.445902</td>\n",
       "      <td>0.584089</td>\n",
       "    </tr>\n",
       "    <tr>\n",
       "      <th>strat3_knn</th>\n",
       "      <td>0.00</td>\n",
       "      <td>0.585421</td>\n",
       "      <td>0.342282</td>\n",
       "      <td>0.377778</td>\n",
       "      <td>0.359155</td>\n",
       "      <td>0.574013</td>\n",
       "    </tr>\n",
       "    <tr>\n",
       "      <th>strat1_decision_tree</th>\n",
       "      <td>0.01</td>\n",
       "      <td>0.619590</td>\n",
       "      <td>0.388889</td>\n",
       "      <td>0.414815</td>\n",
       "      <td>0.401434</td>\n",
       "      <td>0.562671</td>\n",
       "    </tr>\n",
       "    <tr>\n",
       "      <th>strat3_decision_tree</th>\n",
       "      <td>0.01</td>\n",
       "      <td>0.585421</td>\n",
       "      <td>0.362573</td>\n",
       "      <td>0.459259</td>\n",
       "      <td>0.405229</td>\n",
       "      <td>0.550353</td>\n",
       "    </tr>\n",
       "    <tr>\n",
       "      <th>strat2_CatBoost</th>\n",
       "      <td>26.24</td>\n",
       "      <td>0.307517</td>\n",
       "      <td>0.307517</td>\n",
       "      <td>1.000000</td>\n",
       "      <td>0.470383</td>\n",
       "      <td>0.498769</td>\n",
       "    </tr>\n",
       "  </tbody>\n",
       "</table>\n",
       "</div>"
      ],
      "text/plain": [
       "                            training_time [s]  accuracy  precision    recall  \\\n",
       "strat1_logistic_regression               0.01  0.735763   0.637681  0.325926   \n",
       "strat2_AdaBoost                          0.13  0.658314   0.455621  0.570370   \n",
       "strat3_random_forest                     0.29  0.674260   0.466667  0.414815   \n",
       "strat1_XGBoost                           0.12  0.687927   0.490000  0.362963   \n",
       "strat3_logistic_regression               0.00  0.676538   0.474820  0.488889   \n",
       "strat1_AdaBoost                          0.10  0.719818   0.566667  0.377778   \n",
       "strat1_random_forest                     0.25  0.681093   0.471910  0.311111   \n",
       "strat3_AdaBoost                          0.11  0.681093   0.482270  0.503704   \n",
       "strat2_logistic_regression               0.01  0.633257   0.419753  0.503704   \n",
       "strat2_random_forest                     0.33  0.671982   0.465116  0.444444   \n",
       "strat3_XGBoost                           0.11  0.674260   0.469231  0.451852   \n",
       "strat2_XGBoost                           0.13  0.633257   0.410959  0.444444   \n",
       "strat1_CatBoost                         24.73  0.307517   0.307517  1.000000   \n",
       "strat3_CatBoost                         24.75  0.307517   0.307517  1.000000   \n",
       "strat2_knn                               0.01  0.587699   0.382653  0.555556   \n",
       "strat1_knn                               0.01  0.628702   0.365385  0.281481   \n",
       "strat2_decision_tree                     0.01  0.615034   0.400000  0.503704   \n",
       "strat3_knn                               0.00  0.585421   0.342282  0.377778   \n",
       "strat1_decision_tree                     0.01  0.619590   0.388889  0.414815   \n",
       "strat3_decision_tree                     0.01  0.585421   0.362573  0.459259   \n",
       "strat2_CatBoost                         26.24  0.307517   0.307517  1.000000   \n",
       "\n",
       "                                  f1       auc  \n",
       "strat1_logistic_regression  0.431373  0.701072  \n",
       "strat2_AdaBoost             0.506579  0.683991  \n",
       "strat3_random_forest        0.439216  0.678448  \n",
       "strat1_XGBoost              0.417021  0.678095  \n",
       "strat3_logistic_regression  0.481752  0.674732  \n",
       "strat1_AdaBoost             0.453333  0.674488  \n",
       "strat1_random_forest        0.375000  0.672052  \n",
       "strat3_AdaBoost             0.492754  0.666740  \n",
       "strat2_logistic_regression  0.457912  0.656287  \n",
       "strat2_random_forest        0.454545  0.655897  \n",
       "strat3_XGBoost              0.460377  0.648124  \n",
       "strat2_XGBoost              0.427046  0.645541  \n",
       "strat1_CatBoost             0.470383  0.640765  \n",
       "strat3_CatBoost             0.470383  0.595492  \n",
       "strat2_knn                  0.453172  0.594981  \n",
       "strat1_knn                  0.317992  0.590521  \n",
       "strat2_decision_tree        0.445902  0.584089  \n",
       "strat3_knn                  0.359155  0.574013  \n",
       "strat1_decision_tree        0.401434  0.562671  \n",
       "strat3_decision_tree        0.405229  0.550353  \n",
       "strat2_CatBoost             0.470383  0.498769  "
      ]
     },
     "execution_count": 45,
     "metadata": {},
     "output_type": "execute_result"
    }
   ],
   "source": [
    "df_scores1.index = \"strat1_\" + df_scores1.index\n",
    "df_scores2.index = \"strat2_\" + df_scores2.index\n",
    "df_scores3.index = \"strat3_\" + df_scores3.index\n",
    "df_scores = pd.concat([df_scores1, df_scores2, df_scores3], axis=0)\n",
    "\n",
    "df_scores.sort_values(\"auc\", ascending=False)"
   ]
  },
  {
   "cell_type": "code",
   "execution_count": 46,
   "metadata": {},
   "outputs": [],
   "source": [
    "df_scores.to_csv(\"model_scores_step3.csv\")"
   ]
  },
  {
   "cell_type": "code",
   "execution_count": null,
   "metadata": {},
   "outputs": [],
   "source": []
  }
 ],
 "metadata": {
  "kernelspec": {
   "display_name": "Python 3",
   "language": "python",
   "name": "python3"
  },
  "language_info": {
   "codemirror_mode": {
    "name": "ipython",
    "version": 3
   },
   "file_extension": ".py",
   "mimetype": "text/x-python",
   "name": "python",
   "nbconvert_exporter": "python",
   "pygments_lexer": "ipython3",
   "version": "3.8.3"
  }
 },
 "nbformat": 4,
 "nbformat_minor": 4
}
