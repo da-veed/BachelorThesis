{
 "cells": [
  {
   "cell_type": "code",
   "execution_count": 1,
   "metadata": {},
   "outputs": [],
   "source": [
    "import pandas as pd\n",
    "import numpy as np\n",
    "import seaborn as sns\n",
    "import matplotlib.pyplot as plt\n",
    "import time\n",
    "\n",
    "from sklearn.model_selection import train_test_split\n",
    "from sklearn.preprocessing import StandardScaler\n",
    "\n",
    "pd.set_option('display.max_columns', 30)"
   ]
  },
  {
   "cell_type": "code",
   "execution_count": 2,
   "metadata": {
    "scrolled": true
   },
   "outputs": [
    {
     "data": {
      "text/html": [
       "<div>\n",
       "<style scoped>\n",
       "    .dataframe tbody tr th:only-of-type {\n",
       "        vertical-align: middle;\n",
       "    }\n",
       "\n",
       "    .dataframe tbody tr th {\n",
       "        vertical-align: top;\n",
       "    }\n",
       "\n",
       "    .dataframe thead th {\n",
       "        text-align: right;\n",
       "    }\n",
       "</style>\n",
       "<table border=\"1\" class=\"dataframe\">\n",
       "  <thead>\n",
       "    <tr style=\"text-align: right;\">\n",
       "      <th></th>\n",
       "      <th>user_ID</th>\n",
       "      <th>chapter_ID</th>\n",
       "      <th>relative_renewal_date</th>\n",
       "      <th>P</th>\n",
       "      <th>A</th>\n",
       "      <th>L</th>\n",
       "      <th>M</th>\n",
       "      <th>S</th>\n",
       "      <th>RGI</th>\n",
       "      <th>RGO</th>\n",
       "      <th>RRI</th>\n",
       "      <th>RRO</th>\n",
       "      <th>V</th>\n",
       "      <th>1-2-1</th>\n",
       "      <th>TYFCB</th>\n",
       "      <th>CEU</th>\n",
       "      <th>year_of_membership</th>\n",
       "      <th>chapter_size</th>\n",
       "      <th>chapter_retention_rate</th>\n",
       "      <th>chapter_growth_rate</th>\n",
       "      <th>seat_popularity_rate</th>\n",
       "      <th>total_meetings</th>\n",
       "      <th>wont_renew</th>\n",
       "    </tr>\n",
       "  </thead>\n",
       "  <tbody>\n",
       "    <tr>\n",
       "      <th>0</th>\n",
       "      <td>0</td>\n",
       "      <td>31</td>\n",
       "      <td>2016-04-01</td>\n",
       "      <td>33</td>\n",
       "      <td>0</td>\n",
       "      <td>0</td>\n",
       "      <td>1</td>\n",
       "      <td>0</td>\n",
       "      <td>21</td>\n",
       "      <td>7</td>\n",
       "      <td>33</td>\n",
       "      <td>32</td>\n",
       "      <td>1</td>\n",
       "      <td>37</td>\n",
       "      <td>129784</td>\n",
       "      <td>45</td>\n",
       "      <td>0</td>\n",
       "      <td>32</td>\n",
       "      <td>0.315789</td>\n",
       "      <td>1.421053</td>\n",
       "      <td>0.076923</td>\n",
       "      <td>34</td>\n",
       "      <td>0</td>\n",
       "    </tr>\n",
       "    <tr>\n",
       "      <th>1</th>\n",
       "      <td>2</td>\n",
       "      <td>18</td>\n",
       "      <td>2017-05-01</td>\n",
       "      <td>33</td>\n",
       "      <td>2</td>\n",
       "      <td>2</td>\n",
       "      <td>0</td>\n",
       "      <td>0</td>\n",
       "      <td>6</td>\n",
       "      <td>17</td>\n",
       "      <td>11</td>\n",
       "      <td>22</td>\n",
       "      <td>1</td>\n",
       "      <td>26</td>\n",
       "      <td>9285</td>\n",
       "      <td>1</td>\n",
       "      <td>0</td>\n",
       "      <td>34</td>\n",
       "      <td>0.718750</td>\n",
       "      <td>1.093750</td>\n",
       "      <td>0.266667</td>\n",
       "      <td>37</td>\n",
       "      <td>0</td>\n",
       "    </tr>\n",
       "    <tr>\n",
       "      <th>2</th>\n",
       "      <td>2</td>\n",
       "      <td>18</td>\n",
       "      <td>2018-05-01</td>\n",
       "      <td>35</td>\n",
       "      <td>1</td>\n",
       "      <td>0</td>\n",
       "      <td>0</td>\n",
       "      <td>2</td>\n",
       "      <td>6</td>\n",
       "      <td>24</td>\n",
       "      <td>19</td>\n",
       "      <td>36</td>\n",
       "      <td>1</td>\n",
       "      <td>20</td>\n",
       "      <td>7263</td>\n",
       "      <td>10</td>\n",
       "      <td>1</td>\n",
       "      <td>21</td>\n",
       "      <td>0.424242</td>\n",
       "      <td>0.636364</td>\n",
       "      <td>0.210526</td>\n",
       "      <td>38</td>\n",
       "      <td>0</td>\n",
       "    </tr>\n",
       "    <tr>\n",
       "      <th>3</th>\n",
       "      <td>2</td>\n",
       "      <td>18</td>\n",
       "      <td>2019-05-01</td>\n",
       "      <td>36</td>\n",
       "      <td>0</td>\n",
       "      <td>0</td>\n",
       "      <td>0</td>\n",
       "      <td>1</td>\n",
       "      <td>9</td>\n",
       "      <td>8</td>\n",
       "      <td>23</td>\n",
       "      <td>19</td>\n",
       "      <td>3</td>\n",
       "      <td>28</td>\n",
       "      <td>1860</td>\n",
       "      <td>31</td>\n",
       "      <td>2</td>\n",
       "      <td>22</td>\n",
       "      <td>0.739130</td>\n",
       "      <td>1.217391</td>\n",
       "      <td>0.263158</td>\n",
       "      <td>37</td>\n",
       "      <td>0</td>\n",
       "    </tr>\n",
       "    <tr>\n",
       "      <th>4</th>\n",
       "      <td>2</td>\n",
       "      <td>18</td>\n",
       "      <td>2020-05-01</td>\n",
       "      <td>33</td>\n",
       "      <td>1</td>\n",
       "      <td>0</td>\n",
       "      <td>0</td>\n",
       "      <td>3</td>\n",
       "      <td>10</td>\n",
       "      <td>13</td>\n",
       "      <td>19</td>\n",
       "      <td>47</td>\n",
       "      <td>4</td>\n",
       "      <td>30</td>\n",
       "      <td>6668</td>\n",
       "      <td>16</td>\n",
       "      <td>3</td>\n",
       "      <td>26</td>\n",
       "      <td>0.760000</td>\n",
       "      <td>1.120000</td>\n",
       "      <td>0.277778</td>\n",
       "      <td>37</td>\n",
       "      <td>0</td>\n",
       "    </tr>\n",
       "  </tbody>\n",
       "</table>\n",
       "</div>"
      ],
      "text/plain": [
       "   user_ID  chapter_ID relative_renewal_date   P  A  L  M  S  RGI  RGO  RRI  \\\n",
       "0        0          31            2016-04-01  33  0  0  1  0   21    7   33   \n",
       "1        2          18            2017-05-01  33  2  2  0  0    6   17   11   \n",
       "2        2          18            2018-05-01  35  1  0  0  2    6   24   19   \n",
       "3        2          18            2019-05-01  36  0  0  0  1    9    8   23   \n",
       "4        2          18            2020-05-01  33  1  0  0  3   10   13   19   \n",
       "\n",
       "   RRO  V  1-2-1   TYFCB  CEU  year_of_membership  chapter_size  \\\n",
       "0   32  1     37  129784   45                   0            32   \n",
       "1   22  1     26    9285    1                   0            34   \n",
       "2   36  1     20    7263   10                   1            21   \n",
       "3   19  3     28    1860   31                   2            22   \n",
       "4   47  4     30    6668   16                   3            26   \n",
       "\n",
       "   chapter_retention_rate  chapter_growth_rate  seat_popularity_rate  \\\n",
       "0                0.315789             1.421053              0.076923   \n",
       "1                0.718750             1.093750              0.266667   \n",
       "2                0.424242             0.636364              0.210526   \n",
       "3                0.739130             1.217391              0.263158   \n",
       "4                0.760000             1.120000              0.277778   \n",
       "\n",
       "   total_meetings  wont_renew  \n",
       "0              34           0  \n",
       "1              37           0  \n",
       "2              38           0  \n",
       "3              37           0  \n",
       "4              37           0  "
      ]
     },
     "execution_count": 2,
     "metadata": {},
     "output_type": "execute_result"
    }
   ],
   "source": [
    "df = pd.read_csv(\"data/df_post_EDA.csv\", index_col=0)\n",
    "df.head()"
   ]
  },
  {
   "cell_type": "code",
   "execution_count": 3,
   "metadata": {},
   "outputs": [
    {
     "name": "stdout",
     "output_type": "stream",
     "text": [
      "<class 'pandas.core.frame.DataFrame'>\n",
      "Int64Index: 2191 entries, 0 to 2428\n",
      "Data columns (total 23 columns):\n",
      " #   Column                  Non-Null Count  Dtype  \n",
      "---  ------                  --------------  -----  \n",
      " 0   user_ID                 2191 non-null   int64  \n",
      " 1   chapter_ID              2191 non-null   int64  \n",
      " 2   relative_renewal_date   2191 non-null   object \n",
      " 3   P                       2191 non-null   int64  \n",
      " 4   A                       2191 non-null   int64  \n",
      " 5   L                       2191 non-null   int64  \n",
      " 6   M                       2191 non-null   int64  \n",
      " 7   S                       2191 non-null   int64  \n",
      " 8   RGI                     2191 non-null   int64  \n",
      " 9   RGO                     2191 non-null   int64  \n",
      " 10  RRI                     2191 non-null   int64  \n",
      " 11  RRO                     2191 non-null   int64  \n",
      " 12  V                       2191 non-null   int64  \n",
      " 13  1-2-1                   2191 non-null   int64  \n",
      " 14  TYFCB                   2191 non-null   int64  \n",
      " 15  CEU                     2191 non-null   int64  \n",
      " 16  year_of_membership      2191 non-null   int64  \n",
      " 17  chapter_size            2191 non-null   int64  \n",
      " 18  chapter_retention_rate  2191 non-null   float64\n",
      " 19  chapter_growth_rate     2191 non-null   float64\n",
      " 20  seat_popularity_rate    2191 non-null   float64\n",
      " 21  total_meetings          2191 non-null   int64  \n",
      " 22  wont_renew              2191 non-null   int64  \n",
      "dtypes: float64(3), int64(19), object(1)\n",
      "memory usage: 410.8+ KB\n"
     ]
    }
   ],
   "source": [
    "df.info()"
   ]
  },
  {
   "cell_type": "markdown",
   "metadata": {},
   "source": [
    "### Drop & split"
   ]
  },
  {
   "cell_type": "code",
   "execution_count": 4,
   "metadata": {},
   "outputs": [],
   "source": [
    "df.drop([\"user_ID\",\n",
    "         \"relative_renewal_date\",\n",
    "         \"year_of_membership\",\n",
    "         \"chapter_size\",\n",
    "         \"chapter_retention_rate\",\n",
    "         \"chapter_growth_rate\",\n",
    "         \"seat_popularity_rate\",\n",
    "         \"total_meetings\"], axis=1, inplace=True)"
   ]
  },
  {
   "cell_type": "code",
   "execution_count": 5,
   "metadata": {},
   "outputs": [],
   "source": [
    "X = df.drop([\"wont_renew\", \"chapter_ID\"], axis=1).copy()\n",
    "y = df[\"wont_renew\"].copy()\n",
    "\n",
    "X_train, X_test, y_train, y_test = train_test_split(X, y, stratify=y, test_size=0.2, random_state=710)"
   ]
  },
  {
   "cell_type": "code",
   "execution_count": 6,
   "metadata": {},
   "outputs": [],
   "source": [
    "scaler = StandardScaler()\n",
    "scaler.fit(X_train)\n",
    "X_train = pd.DataFrame(scaler.transform(X_train), columns=X.columns)\n",
    "X_test = pd.DataFrame(scaler.transform(X_test), columns=X.columns)"
   ]
  },
  {
   "cell_type": "code",
   "execution_count": 7,
   "metadata": {},
   "outputs": [
    {
     "name": "stdout",
     "output_type": "stream",
     "text": [
      "<class 'pandas.core.frame.DataFrame'>\n",
      "RangeIndex: 1752 entries, 0 to 1751\n",
      "Data columns (total 13 columns):\n",
      " #   Column  Non-Null Count  Dtype  \n",
      "---  ------  --------------  -----  \n",
      " 0   P       1752 non-null   float64\n",
      " 1   A       1752 non-null   float64\n",
      " 2   L       1752 non-null   float64\n",
      " 3   M       1752 non-null   float64\n",
      " 4   S       1752 non-null   float64\n",
      " 5   RGI     1752 non-null   float64\n",
      " 6   RGO     1752 non-null   float64\n",
      " 7   RRI     1752 non-null   float64\n",
      " 8   RRO     1752 non-null   float64\n",
      " 9   V       1752 non-null   float64\n",
      " 10  1-2-1   1752 non-null   float64\n",
      " 11  TYFCB   1752 non-null   float64\n",
      " 12  CEU     1752 non-null   float64\n",
      "dtypes: float64(13)\n",
      "memory usage: 178.1 KB\n"
     ]
    }
   ],
   "source": [
    "X_train.info()"
   ]
  },
  {
   "cell_type": "markdown",
   "metadata": {},
   "source": [
    "# Model"
   ]
  },
  {
   "cell_type": "code",
   "execution_count": 10,
   "metadata": {},
   "outputs": [],
   "source": [
    "from sklearn.linear_model import LogisticRegression\n",
    "from sklearn.neighbors import KNeighborsClassifier\n",
    "from sklearn.svm import SVC\n",
    "from sklearn.tree import DecisionTreeClassifier\n",
    "from sklearn.ensemble import RandomForestClassifier, AdaBoostClassifier\n",
    "from catboost import CatBoostClassifier, Pool\n",
    "import xgboost as xgb\n",
    "\n",
    "from sklearn.model_selection import GridSearchCV\n",
    "from sklearn.metrics import roc_auc_score, roc_curve, auc, classification_report\n",
    "from sklearn.metrics import f1_score, precision_score, recall_score, accuracy_score"
   ]
  },
  {
   "cell_type": "code",
   "execution_count": 9,
   "metadata": {},
   "outputs": [],
   "source": [
    "df_scores = pd.DataFrame(columns=[\"training_time [s]\", \"accuracy\", \"precision\", \"recall\", \"f1\", \"auc\"])"
   ]
  },
  {
   "cell_type": "markdown",
   "metadata": {},
   "source": [
    "## 1. Logistic Regression"
   ]
  },
  {
   "cell_type": "code",
   "execution_count": 18,
   "metadata": {},
   "outputs": [
    {
     "name": "stdout",
     "output_type": "stream",
     "text": [
      "Fitting 3 folds for each of 11 candidates, totalling 33 fits\n",
      "Elapsed time: 0 minutes 0.08 seconds\n",
      "{'C': 0.01}\n"
     ]
    },
    {
     "data": {
      "text/html": [
       "<div>\n",
       "<style scoped>\n",
       "    .dataframe tbody tr th:only-of-type {\n",
       "        vertical-align: middle;\n",
       "    }\n",
       "\n",
       "    .dataframe tbody tr th {\n",
       "        vertical-align: top;\n",
       "    }\n",
       "\n",
       "    .dataframe thead th {\n",
       "        text-align: right;\n",
       "    }\n",
       "</style>\n",
       "<table border=\"1\" class=\"dataframe\">\n",
       "  <thead>\n",
       "    <tr style=\"text-align: right;\">\n",
       "      <th></th>\n",
       "      <th>training_time [s]</th>\n",
       "      <th>accuracy</th>\n",
       "      <th>precision</th>\n",
       "      <th>recall</th>\n",
       "      <th>f1</th>\n",
       "      <th>auc</th>\n",
       "    </tr>\n",
       "  </thead>\n",
       "  <tbody>\n",
       "    <tr>\n",
       "      <th>logistic_regression</th>\n",
       "      <td>0.08</td>\n",
       "      <td>0.728929</td>\n",
       "      <td>0.710526</td>\n",
       "      <td>0.2</td>\n",
       "      <td>0.312139</td>\n",
       "      <td>0.700414</td>\n",
       "    </tr>\n",
       "  </tbody>\n",
       "</table>\n",
       "</div>"
      ],
      "text/plain": [
       "                     training_time [s]  accuracy  precision  recall        f1  \\\n",
       "logistic_regression               0.08  0.728929   0.710526     0.2  0.312139   \n",
       "\n",
       "                          auc  \n",
       "logistic_regression  0.700414  "
      ]
     },
     "execution_count": 18,
     "metadata": {},
     "output_type": "execute_result"
    }
   ],
   "source": [
    "logreg = LogisticRegression(max_iter=2000)\n",
    "\n",
    "logreg_grid = {}\n",
    "logreg_grid[\"C\"] = [0.001, 0.003, 0.01, 0.03, 0.1, 0.3, 1, 3, 10, 30, 100]\n",
    "\n",
    "logreg_cv = GridSearchCV(logreg, logreg_grid, scoring=\"roc_auc\", n_jobs=-1, cv=3, verbose=5)\n",
    "\n",
    "start = time.time()\n",
    "logreg_cv.fit(X_train, y_train)\n",
    "end = time.time()\n",
    "print(f\"Elapsed time: {(end - start):.2f} seconds\")\n",
    "print(logreg_cv.best_params_)\n",
    "\n",
    "y_pred = logreg_cv.predict(X_test)\n",
    "y_proba = logreg_cv.predict_proba(X_test)\n",
    "\n",
    "df_scores.loc[\"logistic_regression\"] = [round(end - start, 2),\n",
    "                                        accuracy_score(y_test, y_pred),\n",
    "                                        precision_score(y_test, y_pred),\n",
    "                                        recall_score(y_test, y_pred),\n",
    "                                        f1_score(y_test, y_pred),\n",
    "                                        roc_auc_score(y_test, y_proba[:,1])]\n",
    "df_scores"
   ]
  },
  {
   "cell_type": "markdown",
   "metadata": {},
   "source": [
    "## 2. K-neighbors classifier"
   ]
  },
  {
   "cell_type": "code",
   "execution_count": 23,
   "metadata": {},
   "outputs": [
    {
     "name": "stdout",
     "output_type": "stream",
     "text": [
      "Fitting 3 folds for each of 28 candidates, totalling 84 fits\n",
      "Elapsed time: 0 minutes 0.35 seconds\n",
      "{'n_neighbors': 29, 'weights': 'distance'}\n"
     ]
    }
   ],
   "source": [
    "knn = KNeighborsClassifier()\n",
    "\n",
    "knn_grid = {}\n",
    "knn_grid[\"n_neighbors\"] = [x for x in range(3, 30, 2)]\n",
    "knn_grid[\"weights\"] = [\"uniform\", \"distance\"]\n",
    "\n",
    "knn_cv = GridSearchCV(knn, knn_grid, scoring=\"roc_auc\", n_jobs=-1, cv=3, verbose=5)\n",
    "\n",
    "start = time.time()\n",
    "knn_cv.fit(X_train, y_train)\n",
    "end = time.time()\n",
    "print(f\"Elapsed time: {(end - start):.2f} seconds\")\n",
    "print(knn_cv.best_params_)\n",
    "\n",
    "y_pred = knn_cv.predict(X_test)\n",
    "y_proba = knn_cv.predict_proba(X_test)\n",
    "\n",
    "df_scores.loc[\"knn\"] = [round(end - start, 2),\n",
    "                                        accuracy_score(y_test, y_pred),\n",
    "                                        precision_score(y_test, y_pred),\n",
    "                                        recall_score(y_test, y_pred),\n",
    "                                        f1_score(y_test, y_pred),\n",
    "                                        roc_auc_score(y_test, y_proba[:,1])]"
   ]
  },
  {
   "cell_type": "markdown",
   "metadata": {},
   "source": [
    "## 3. Decision Tree"
   ]
  },
  {
   "cell_type": "code",
   "execution_count": 25,
   "metadata": {},
   "outputs": [
    {
     "name": "stdout",
     "output_type": "stream",
     "text": [
      "Fitting 3 folds for each of 288 candidates, totalling 864 fits\n",
      "Elapsed time: 0 minutes 1.43 seconds\n",
      "{'max_depth': 4, 'min_samples_leaf': 6, 'min_samples_split': 4}\n"
     ]
    }
   ],
   "source": [
    "dt = DecisionTreeClassifier()\n",
    "\n",
    "dt_grid = {}\n",
    "dt_grid[\"max_depth\"] = [x for x in range(2, 20, 2)]\n",
    "dt_grid[\"min_samples_split\"] = [x for x in range(2, 10, 2)]\n",
    "dt_grid[\"min_samples_leaf\"] = [x for x in range(1, 9, 1)]\n",
    "\n",
    "dt_cv = GridSearchCV(dt, dt_grid, scoring=\"roc_auc\", n_jobs=-1, cv=3, verbose=5)\n",
    "\n",
    "start = time.time()\n",
    "dt_cv.fit(X_train, y_train)\n",
    "end = time.time()\n",
    "print(f\"Elapsed time: {(end - start):.2f} seconds\")\n",
    "print(dt_cv.best_params_)\n",
    "\n",
    "y_pred = dt_cv.predict(X_test)\n",
    "y_proba = dt_cv.predict_proba(X_test)\n",
    "\n",
    "df_scores.loc[\"decision_tree\"] = [round(end - start, 2),\n",
    "                                        accuracy_score(y_test, y_pred),\n",
    "                                        precision_score(y_test, y_pred),\n",
    "                                        recall_score(y_test, y_pred),\n",
    "                                        f1_score(y_test, y_pred),\n",
    "                                        roc_auc_score(y_test, y_proba[:,1])]"
   ]
  },
  {
   "cell_type": "markdown",
   "metadata": {},
   "source": [
    "## 4. Random Forest"
   ]
  },
  {
   "cell_type": "code",
   "execution_count": 26,
   "metadata": {},
   "outputs": [
    {
     "name": "stdout",
     "output_type": "stream",
     "text": [
      "Fitting 3 folds for each of 240 candidates, totalling 720 fits\n",
      "Elapsed time: 3 minutes 208.49 seconds\n",
      "{'max_depth': 4, 'min_samples_leaf': 4, 'min_samples_split': 4, 'n_estimators': 100}\n"
     ]
    }
   ],
   "source": [
    "rf = RandomForestClassifier()\n",
    "\n",
    "rf_grid = {}\n",
    "rf_grid[\"n_estimators\"] = [100, 500, 1000]\n",
    "rf_grid[\"max_depth\"] = [x for x in range(2, 10, 2)]\n",
    "rf_grid[\"min_samples_split\"] = [x for x in range(2, 7, 2)]\n",
    "rf_grid[\"min_samples_leaf\"] = [x for x in range(1, 6, 1)]\n",
    "\n",
    "rf_cv = GridSearchCV(rf, rf_grid, scoring=\"roc_auc\", n_jobs=-1, cv=3, verbose=5)\n",
    "\n",
    "start = time.time()\n",
    "rf_cv.fit(X_train, y_train)\n",
    "end = time.time()\n",
    "print(f\"Elapsed time: {(end - start):.2f} seconds\")\n",
    "print(rf_cv.best_params_)\n",
    "\n",
    "y_pred = rf_cv.predict(X_test)\n",
    "y_proba = rf_cv.predict_proba(X_test)\n",
    "\n",
    "df_scores.loc[\"random_forest\"] = [round(end - start, 2),\n",
    "                                        accuracy_score(y_test, y_pred),\n",
    "                                        precision_score(y_test, y_pred),\n",
    "                                        recall_score(y_test, y_pred),\n",
    "                                        f1_score(y_test, y_pred),\n",
    "                                        roc_auc_score(y_test, y_proba[:,1])]"
   ]
  },
  {
   "cell_type": "markdown",
   "metadata": {},
   "source": [
    "## 5. AdaBoost"
   ]
  },
  {
   "cell_type": "code",
   "execution_count": 27,
   "metadata": {},
   "outputs": [
    {
     "name": "stdout",
     "output_type": "stream",
     "text": [
      "Fitting 3 folds for each of 16 candidates, totalling 48 fits\n",
      "Elapsed time: 0 minutes 9.55 seconds\n",
      "{'learning_rate': 0.1, 'n_estimators': 50}\n"
     ]
    }
   ],
   "source": [
    "ada = AdaBoostClassifier()\n",
    "\n",
    "ada_grid = {}\n",
    "ada_grid[\"n_estimators\"] = [50, 100, 500, 1000]\n",
    "ada_grid[\"learning_rate\"] = [0.03, 0.1, 0.3, 1]\n",
    "\n",
    "ada_cv = GridSearchCV(ada, ada_grid, scoring=\"roc_auc\", n_jobs=-1, cv=3, verbose=5)\n",
    "\n",
    "start = time.time()\n",
    "ada_cv.fit(X_train, y_train)\n",
    "end = time.time()\n",
    "print(f\"Elapsed time: {(end - start):.2f} seconds\")\n",
    "print(ada_cv.best_params_)\n",
    "\n",
    "y_pred = ada_cv.predict(X_test)\n",
    "y_proba = ada_cv.predict_proba(X_test)\n",
    "\n",
    "df_scores.loc[\"AdaBoost\"] = [round(end - start, 2),\n",
    "                                        accuracy_score(y_test, y_pred),\n",
    "                                        precision_score(y_test, y_pred),\n",
    "                                        recall_score(y_test, y_pred),\n",
    "                                        f1_score(y_test, y_pred),\n",
    "                                        roc_auc_score(y_test, y_proba[:,1])]"
   ]
  },
  {
   "cell_type": "markdown",
   "metadata": {},
   "source": [
    "## 6. XGBoost"
   ]
  },
  {
   "cell_type": "code",
   "execution_count": 29,
   "metadata": {},
   "outputs": [
    {
     "name": "stdout",
     "output_type": "stream",
     "text": [
      "Fitting 3 folds for each of 2160 candidates, totalling 6480 fits\n",
      "Elapsed time: 9 minutes 564.69 seconds\n",
      "{'alpha': 1, 'colsample_bytree': 0.1, 'learning_rate': 0.03, 'max_depth': 7, 'n_estimators': 100}\n"
     ]
    }
   ],
   "source": [
    "xg = xgb.XGBClassifier(objective='binary:logistic', eval_metric=\"auc\", use_label_encoder=False)\n",
    "\n",
    "xg_grid = {}\n",
    "xg_grid[\"n_estimators\"] = [100, 500, 1000]\n",
    "xg_grid[\"colsample_bytree\"] = [0.1, 0.3, 0.5, 0.8]\n",
    "xg_grid[\"learning_rate\"] = [0.03, 0.1, 0.3, 1]\n",
    "xg_grid[\"max_depth\"] = [x for x in range(2, 11, 1)]\n",
    "xg_grid[\"alpha\"] = [0.1, 0.3, 1, 3, 10]\n",
    "\n",
    "xg_cv = GridSearchCV(xg, xg_grid, scoring=\"roc_auc\", n_jobs=-1, cv=3, verbose=5)\n",
    "\n",
    "start = time.time()\n",
    "xg_cv.fit(X_train, y_train)\n",
    "end = time.time()\n",
    "print(f\"Elapsed time: {(end - start):.2f} seconds\")\n",
    "print(xg_cv.best_params_)\n",
    "\n",
    "y_pred = xg_cv.predict(X_test)\n",
    "y_proba = xg_cv.predict_proba(X_test)\n",
    "\n",
    "df_scores.loc[\"XGBoost\"] = [round(end - start, 2),\n",
    "                                        accuracy_score(y_test, y_pred),\n",
    "                                        precision_score(y_test, y_pred),\n",
    "                                        recall_score(y_test, y_pred),\n",
    "                                        f1_score(y_test, y_pred),\n",
    "                                        roc_auc_score(y_test, y_proba[:,1])]"
   ]
  },
  {
   "cell_type": "markdown",
   "metadata": {},
   "source": [
    "## 7. CatBoost"
   ]
  },
  {
   "cell_type": "code",
   "execution_count": 31,
   "metadata": {},
   "outputs": [
    {
     "name": "stdout",
     "output_type": "stream",
     "text": [
      "Fitting 3 folds for each of 4 candidates, totalling 12 fits\n",
      "Elapsed time: 2 minutes 147.09 seconds\n",
      "{'depth': 10}\n"
     ]
    }
   ],
   "source": [
    "X = df.drop([\"wont_renew\"], axis=1).copy()\n",
    "y = df[\"wont_renew\"].copy()\n",
    "\n",
    "X_train, X_test, y_train, y_test = train_test_split(X, y, stratify=y, test_size=0.2, random_state=710)\n",
    "\n",
    "scaler = StandardScaler()\n",
    "scaler.fit(X_train)\n",
    "\n",
    "X_train = pd.DataFrame(scaler.transform(X_train), columns=X.columns)\n",
    "X_test = pd.DataFrame(scaler.transform(X_test), columns=X.columns)\n",
    "\n",
    "X_train[\"chapter_ID\"] = X_train[\"chapter_ID\"].astype(\"str\")\n",
    "X_test[\"chapter_ID\"] = X_test[\"chapter_ID\"].astype(\"str\")\n",
    "\n",
    "cb = CatBoostClassifier(early_stopping_rounds=20, cat_features=[\"chapter_ID\"])\n",
    "\n",
    "cb_grid = {}\n",
    "cb_grid[\"iterations\"] = [100, 500, 1000]\n",
    "cb_grid[\"learning_rate\"] = [0.03, 0.1, 0.3, 1]\n",
    "cb_grid['l2_leaf_reg'] = [1, 3, 5, 7, 9]\n",
    "cb_grid[\"depth\"] = [4, 6, 8, 10]\n",
    "\n",
    "cb_cv = GridSearchCV(cb, cb_grid, scoring=\"roc_auc\", n_jobs=-1, cv=3, verbose=5)\n",
    "\n",
    "start = time.time()\n",
    "cb_cv.fit(X_train, y_train, verbose=0)\n",
    "end = time.time()\n",
    "print(f\"Elapsed time: {(end - start):.2f} seconds\")\n",
    "print(cb_cv.best_params_)\n",
    "\n",
    "y_pred = cb_cv.predict(X_test)\n",
    "y_proba = cb_cv.predict_proba(X_test)\n",
    "\n",
    "df_scores.loc[\"CatBoost\"] = [round(end - start, 2),\n",
    "                                        accuracy_score(y_test, y_pred),\n",
    "                                        precision_score(y_test, y_pred),\n",
    "                                        recall_score(y_test, y_pred),\n",
    "                                        f1_score(y_test, y_pred),\n",
    "                                        roc_auc_score(y_test, y_proba[:,1])]"
   ]
  },
  {
   "cell_type": "markdown",
   "metadata": {},
   "source": [
    "# Compare results"
   ]
  },
  {
   "cell_type": "code",
   "execution_count": 32,
   "metadata": {},
   "outputs": [
    {
     "data": {
      "text/html": [
       "<div>\n",
       "<style scoped>\n",
       "    .dataframe tbody tr th:only-of-type {\n",
       "        vertical-align: middle;\n",
       "    }\n",
       "\n",
       "    .dataframe tbody tr th {\n",
       "        vertical-align: top;\n",
       "    }\n",
       "\n",
       "    .dataframe thead th {\n",
       "        text-align: right;\n",
       "    }\n",
       "</style>\n",
       "<table border=\"1\" class=\"dataframe\">\n",
       "  <thead>\n",
       "    <tr style=\"text-align: right;\">\n",
       "      <th></th>\n",
       "      <th>training_time [s]</th>\n",
       "      <th>accuracy</th>\n",
       "      <th>precision</th>\n",
       "      <th>recall</th>\n",
       "      <th>f1</th>\n",
       "      <th>auc</th>\n",
       "    </tr>\n",
       "  </thead>\n",
       "  <tbody>\n",
       "    <tr>\n",
       "      <th>XGBoost</th>\n",
       "      <td>564.69</td>\n",
       "      <td>0.708428</td>\n",
       "      <td>0.684211</td>\n",
       "      <td>0.096296</td>\n",
       "      <td>0.168831</td>\n",
       "      <td>0.714230</td>\n",
       "    </tr>\n",
       "    <tr>\n",
       "      <th>AdaBoost</th>\n",
       "      <td>9.55</td>\n",
       "      <td>0.724374</td>\n",
       "      <td>0.675000</td>\n",
       "      <td>0.200000</td>\n",
       "      <td>0.308571</td>\n",
       "      <td>0.703289</td>\n",
       "    </tr>\n",
       "    <tr>\n",
       "      <th>logistic_regression</th>\n",
       "      <td>0.08</td>\n",
       "      <td>0.728929</td>\n",
       "      <td>0.710526</td>\n",
       "      <td>0.200000</td>\n",
       "      <td>0.312139</td>\n",
       "      <td>0.700414</td>\n",
       "    </tr>\n",
       "    <tr>\n",
       "      <th>random_forest</th>\n",
       "      <td>208.49</td>\n",
       "      <td>0.715262</td>\n",
       "      <td>0.647059</td>\n",
       "      <td>0.162963</td>\n",
       "      <td>0.260355</td>\n",
       "      <td>0.698514</td>\n",
       "    </tr>\n",
       "    <tr>\n",
       "      <th>CatBoost</th>\n",
       "      <td>147.09</td>\n",
       "      <td>0.703872</td>\n",
       "      <td>0.537313</td>\n",
       "      <td>0.266667</td>\n",
       "      <td>0.356436</td>\n",
       "      <td>0.674488</td>\n",
       "    </tr>\n",
       "    <tr>\n",
       "      <th>knn</th>\n",
       "      <td>0.35</td>\n",
       "      <td>0.719818</td>\n",
       "      <td>0.666667</td>\n",
       "      <td>0.177778</td>\n",
       "      <td>0.280702</td>\n",
       "      <td>0.657724</td>\n",
       "    </tr>\n",
       "    <tr>\n",
       "      <th>decision_tree</th>\n",
       "      <td>1.43</td>\n",
       "      <td>0.717540</td>\n",
       "      <td>0.641026</td>\n",
       "      <td>0.185185</td>\n",
       "      <td>0.287356</td>\n",
       "      <td>0.632736</td>\n",
       "    </tr>\n",
       "  </tbody>\n",
       "</table>\n",
       "</div>"
      ],
      "text/plain": [
       "                     training_time [s]  accuracy  precision    recall  \\\n",
       "XGBoost                         564.69  0.708428   0.684211  0.096296   \n",
       "AdaBoost                          9.55  0.724374   0.675000  0.200000   \n",
       "logistic_regression               0.08  0.728929   0.710526  0.200000   \n",
       "random_forest                   208.49  0.715262   0.647059  0.162963   \n",
       "CatBoost                        147.09  0.703872   0.537313  0.266667   \n",
       "knn                               0.35  0.719818   0.666667  0.177778   \n",
       "decision_tree                     1.43  0.717540   0.641026  0.185185   \n",
       "\n",
       "                           f1       auc  \n",
       "XGBoost              0.168831  0.714230  \n",
       "AdaBoost             0.308571  0.703289  \n",
       "logistic_regression  0.312139  0.700414  \n",
       "random_forest        0.260355  0.698514  \n",
       "CatBoost             0.356436  0.674488  \n",
       "knn                  0.280702  0.657724  \n",
       "decision_tree        0.287356  0.632736  "
      ]
     },
     "execution_count": 32,
     "metadata": {},
     "output_type": "execute_result"
    }
   ],
   "source": [
    "df_scores.sort_values(\"auc\", ascending=False)"
   ]
  },
  {
   "cell_type": "code",
   "execution_count": 19,
   "metadata": {},
   "outputs": [],
   "source": [
    "df_scores.to_csv(\"model_scores_step3.csv\")"
   ]
  },
  {
   "cell_type": "code",
   "execution_count": null,
   "metadata": {},
   "outputs": [],
   "source": []
  }
 ],
 "metadata": {
  "kernelspec": {
   "display_name": "Python 3",
   "language": "python",
   "name": "python3"
  },
  "language_info": {
   "codemirror_mode": {
    "name": "ipython",
    "version": 3
   },
   "file_extension": ".py",
   "mimetype": "text/x-python",
   "name": "python",
   "nbconvert_exporter": "python",
   "pygments_lexer": "ipython3",
   "version": "3.8.3"
  }
 },
 "nbformat": 4,
 "nbformat_minor": 4
}
